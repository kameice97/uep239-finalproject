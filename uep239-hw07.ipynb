{
 "cells": [
  {
   "cell_type": "markdown",
   "id": "double-faith",
   "metadata": {},
   "source": [
    "# UEP-0239 Homework Assignment 7\n",
    "\n",
    "In this assignment we will practice raster analysis by conducting a risk assessment, which has a workflow nearly identical to a suitability analysis. The assignment is largely based on [this tutorial](https://sites.tufts.edu/gis/files/2013/11/RiskAssessment_MalariaInEthiopia_tutorial_10.6.1.pdf) written by Carolyn Talmadge for the [Tufts Data Lab](https://sites.tufts.edu/datalab/). The tutorial walks through a similar analysis using ArcGIS Desktop (also known as ArcMap). Your mission is to translate parts of the analysis into Python code utilizing open-source libraries as instructed below."
   ]
  },
  {
   "cell_type": "markdown",
   "id": "fantastic-participation",
   "metadata": {},
   "source": [
    "## README \n",
    "\n",
    "- **Name:** Kameice Francis\n",
    "- **Number of hours:** ~6 \n",
    "- I went to Chris' and Kyle's Office Hours to get help with this assignment. I also spoke with Uku. \n"
   ]
  },
  {
   "cell_type": "markdown",
   "id": "revolutionary-trace",
   "metadata": {},
   "source": [
    "## Introduction\n",
    "\n",
    "Malaria is a serious acute illness transmitted via the bite of a mosquito. Symptoms include fever, headache, backache, joint pains, and vomiting. If not treated, malaria can quickly become life-threatening. According to the World Health Organization (WHO), roughly 75% of the land and 60% of the population is exposed to malaria in Ethiopia. The purpose of this analysis is to determine the overall risk of Malaria transmission throughout Ethiopia, considering the following factors:\n",
    "\n",
    "- **Proximity to rivers** – Malaria is a water-related disease because it is transmitted via mosquitos who prefer to breed near rivers. Therefore, proximity to rivers results in higher risk of transmission.\n",
    "- **Elevation** – Elevation is directly linked to climate, and mosquitos prefer warmer climates and lower elevations. Lower elevations increase mosquito population turnover, which means a higher risk of transmission.\n",
    "- **Slope** – Gentle slopes equal higher susceptible areas for malaria incidence.\n",
    "- **Land cover** – Mosquitos prefer damp areas, so land cover will affect the analysis."
   ]
  },
  {
   "cell_type": "markdown",
   "id": "elect-blond",
   "metadata": {
    "tags": []
   },
   "source": [
    "## The Data\n",
    "\n",
    "The `data` folder in your assignment repository should contain the following files:\n",
    "\n",
    "- `data/boundaries/ethiopia.shp` – the boundaries of Ethiopia (ESRI shapefile)\n",
    "- `data/boundaries/zones.shp` – boundaries of second-order administrative zones (ESRI shapefile)\n",
    "- `data/elevation/elevation.tif` - digital elevation model (DEM) of Ethiopia and surrounding areas (GeoTIFF)\n",
    "- `data/landcover/landcover.tif` - land cover raster for Ethiopia and surrounding areas (GeoTiFF)\n",
    "- `data/water/rivers.shp` – rivers of Ethiopia (ESRI Shapefile)\n",
    "\n",
    "To make your analysis simpler, the `elevation.tif` and `landcover.tif` rasters have been clipped to the same extent with matching resolutions and all data has been projected to the [ESRI:102022 Africa Alberts Equal Area Conic](https://spatialreference.org/ref/esri/africa-albers-equal-area-conic/) projection."
   ]
  },
  {
   "cell_type": "markdown",
   "id": "reliable-wesley",
   "metadata": {},
   "source": [
    "## Analysis Overview\n",
    "\n",
    "Here is a rough outline of the analysis we will perform:\n",
    "\n",
    "1. Read in and visualize the raster datasets (10 pts)\n",
    "2. **Land cover** > reclassify for land cover preferences (10 pts)\n",
    "3. **Elevation (DEM)** > derive slope > reclassify for slope preferences (low slope = high risk) (20 pts)\n",
    "4. **Elevation (DEM)** > reclassify for elevation preferences (low elevation = high risk) (10 pts)\n",
    "5. **Rivers** > rasterize shapefile > get euclidean distance raster > reclassify (close = high risk) (25 pts)\n",
    "6. Calculate weighted and unweighted risk raster from all reclassified rasters (5 pts)\n",
    "7. Mask risk rasters to the shape of Ethiopia (10 pts)\n",
    "8. **Extra credit:** Use zonal statistics to determine average risk per zone (20 pts)\n"
   ]
  },
  {
   "cell_type": "markdown",
   "id": "great-sleeve",
   "metadata": {},
   "source": [
    "## Import Dependencies\n",
    "\n",
    "Here are some dependency imports to get you started. Feel free to add more import statements if needed."
   ]
  },
  {
   "cell_type": "code",
   "execution_count": 1,
   "id": "domestic-topic",
   "metadata": {},
   "outputs": [
    {
     "ename": "ModuleNotFoundError",
     "evalue": "No module named 'rasterio'",
     "output_type": "error",
     "traceback": [
      "\u001b[1;31m---------------------------------------------------------------------------\u001b[0m",
      "\u001b[1;31mModuleNotFoundError\u001b[0m                       Traceback (most recent call last)",
      "\u001b[1;32m<ipython-input-1-339eef9d5973>\u001b[0m in \u001b[0;36m<module>\u001b[1;34m\u001b[0m\n\u001b[1;32m----> 1\u001b[1;33m \u001b[1;32mimport\u001b[0m \u001b[0mrasterio\u001b[0m\u001b[1;33m\u001b[0m\u001b[1;33m\u001b[0m\u001b[0m\n\u001b[0m\u001b[0;32m      2\u001b[0m \u001b[1;32mfrom\u001b[0m \u001b[0mrasterio\u001b[0m\u001b[1;33m.\u001b[0m\u001b[0mplot\u001b[0m \u001b[1;32mimport\u001b[0m \u001b[0mshow\u001b[0m\u001b[1;33m\u001b[0m\u001b[1;33m\u001b[0m\u001b[0m\n\u001b[0;32m      3\u001b[0m \u001b[1;32mfrom\u001b[0m \u001b[0mrasterio\u001b[0m \u001b[1;32mimport\u001b[0m \u001b[0mfeatures\u001b[0m\u001b[1;33m\u001b[0m\u001b[1;33m\u001b[0m\u001b[0m\n\u001b[0;32m      4\u001b[0m \u001b[1;33m\u001b[0m\u001b[0m\n\u001b[0;32m      5\u001b[0m \u001b[1;32mimport\u001b[0m \u001b[0mnumpy\u001b[0m \u001b[1;32mas\u001b[0m \u001b[0mnp\u001b[0m\u001b[1;33m\u001b[0m\u001b[1;33m\u001b[0m\u001b[0m\n",
      "\u001b[1;31mModuleNotFoundError\u001b[0m: No module named 'rasterio'"
     ]
    }
   ],
   "source": [
    "import rasterio\n",
    "from rasterio.plot import show\n",
    "from rasterio import features\n",
    "\n",
    "import numpy as np\n",
    "import geopandas as gpd\n",
    "import matplotlib.pyplot as plt\n",
    "\n",
    "import richdem as rd\n",
    "from scipy import ndimage\n",
    "from rasterstats import zonal_stats"
   ]
  },
  {
   "cell_type": "markdown",
   "id": "looking-terminology",
   "metadata": {},
   "source": [
    "## Read Raster Datasets (5 pts)\n",
    "\n",
    "Use [`rasterio.open()`](https://rasterio.readthedocs.io/en/latest/api/rasterio.html#rasterio.open) to open and read in both the elevation and landcover datasets. Remember that just like the [`open()`](https://docs.python.org/3/library/functions.html#open) function in Python, this function establishes a connection to the file, which should later be closed. Hence, you should either use [`with`](https://docs.python.org/3/reference/compound_stmts.html#with) to open the file and extract all relevant information or make sure to use [`.close()`](https://rasterio.readthedocs.io/en/latest/api/rasterio.io.html#rasterio.io.DatasetReader.close) to close the connection once you are done.\n",
    "\n",
    "It is also important to remember that the [`rasterio.open()`](https://rasterio.readthedocs.io/en/latest/api/rasterio.html#rasterio.open) function returns a [`DatasetReader`](https://rasterio.readthedocs.io/en/latest/api/rasterio.io.html#rasterio.io.DatasetReader) object, not the dataset itself. However, the [`DatasetReader`](https://rasterio.readthedocs.io/en/latest/api/rasterio.io.html#rasterio.io.DatasetReader) object has numerous attributes and methods that allow you to read in various components of the raster dataset. For example, you can use the [`.meta`](https://rasterio.readthedocs.io/en/latest/api/rasterio.io.html#rasterio.io.DatasetReader.meta) attribute to access the metadata associated with the raster and you can use the [`.read()`](https://rasterio.readthedocs.io/en/latest/api/rasterio.io.html#rasterio.io.DatasetReader.read) method to extract the raster data values as a matrix.\n",
    "\n",
    "Both raster datasets should have the same coordinate system, extent, and resolution, but you should use the [`.meta`](https://rasterio.readthedocs.io/en/latest/api/rasterio.io.html#rasterio.io.DatasetReader.meta) attribute to compare the metadata for both files and ensure this is the case.\n",
    "\n",
    "Once you have confirmed that the spatial attributes of both rasters are the same, use the [`.read()`](https://rasterio.readthedocs.io/en/latest/api/rasterio.io.html#rasterio.io.DatasetReader.read) method with the appropriate band number to save the data matrices of the raster datasets into variables named `elevation` and `landcover`. Then pick one raster and use the appropriate attributes to extract all necessary spatial information into corresponding variables as well. Here is the information that is vital to the analysis:\n",
    "\n",
    "- [`bounds`](https://rasterio.readthedocs.io/en/latest/api/rasterio.io.html#rasterio.io.DatasetReader.bounds) – the spatial extent of the rasters\n",
    "- [`crs`](https://rasterio.readthedocs.io/en/latest/api/rasterio.io.html#rasterio.io.DatasetReader.crs) – the coordinate system used\n",
    "- [`nodata`](https://rasterio.readthedocs.io/en/latest/api/rasterio.io.html#rasterio.io.DatasetReader.nodata) – the nodata value used (do this for each raster if the nodata values do not match)\n",
    "- [`shape`](https://rasterio.readthedocs.io/en/latest/api/rasterio.io.html#rasterio.io.DatasetReader.shape) – number of rows and columns\n",
    "- [`transform`](https://rasterio.readthedocs.io/en/latest/api/rasterio.io.html#rasterio.io.DatasetReader.transform) – how to translate from row/column indices to spatial coordinates\n",
    "\n",
    "Make sure to explore both the data matrices and the various metadata values once you have extracted them to ensure everything is as expected."
   ]
  },
  {
   "cell_type": "code",
   "execution_count": null,
   "id": "hired-classroom",
   "metadata": {},
   "outputs": [],
   "source": [
    "#opening and reading in the elevation dataset\n",
    "elev = rasterio.open(\"data\\elevation\\elevation.tif\")"
   ]
  },
  {
   "cell_type": "code",
   "execution_count": null,
   "id": "innovative-aquatic",
   "metadata": {},
   "outputs": [],
   "source": [
    "#opening and reading in the landcover dataset\n",
    "land = rasterio.open(\"C:data\\landcover\\landcover.tif\")"
   ]
  },
  {
   "cell_type": "code",
   "execution_count": null,
   "id": "described-favor",
   "metadata": {},
   "outputs": [],
   "source": [
    "#checking the data type of the variable that was created from the elevation dataset\n",
    "type(elev)"
   ]
  },
  {
   "cell_type": "code",
   "execution_count": null,
   "id": "aggressive-northern",
   "metadata": {},
   "outputs": [],
   "source": [
    "#checking the data type of the variable that was created from the landcover dataset\n",
    "type(land)"
   ]
  },
  {
   "cell_type": "code",
   "execution_count": null,
   "id": "sweet-regression",
   "metadata": {},
   "outputs": [],
   "source": [
    "#looking at the metadata for elev (elevation variable)\n",
    "elev.meta"
   ]
  },
  {
   "cell_type": "code",
   "execution_count": null,
   "id": "defensive-bench",
   "metadata": {},
   "outputs": [],
   "source": [
    "#looking at the metadata for land (landcover variable)\n",
    "land.meta"
   ]
  },
  {
   "cell_type": "code",
   "execution_count": null,
   "id": "tamil-merchandise",
   "metadata": {},
   "outputs": [],
   "source": [
    "#saving the data matrices of the elevation raster dataset into a variable named elevation \n",
    "elevation = elev.read(1)"
   ]
  },
  {
   "cell_type": "code",
   "execution_count": null,
   "id": "brilliant-funds",
   "metadata": {},
   "outputs": [],
   "source": [
    "#saving the data matrices of the landcover raster dataset into a variable named landcover\n",
    "landcover = land.read(1)"
   ]
  },
  {
   "cell_type": "code",
   "execution_count": null,
   "id": "prescribed-tracker",
   "metadata": {},
   "outputs": [],
   "source": [
    "#looking at the elevation variable\n",
    "elevation[0]"
   ]
  },
  {
   "cell_type": "code",
   "execution_count": null,
   "id": "hispanic-ordinance",
   "metadata": {},
   "outputs": [],
   "source": [
    "#saving the resolution for the elevation dataset \n",
    "res = elev.res\n",
    "res"
   ]
  },
  {
   "cell_type": "code",
   "execution_count": null,
   "id": "virgin-collaboration",
   "metadata": {},
   "outputs": [],
   "source": [
    "#getting information about the spatial extent of the rasters and putting it into a variable (only need to use one since both have the same res etc.)\n",
    "ele_bounds = elev.bounds\n",
    "ele_bounds"
   ]
  },
  {
   "cell_type": "code",
   "execution_count": null,
   "id": "durable-finnish",
   "metadata": {},
   "outputs": [],
   "source": [
    "#getting information about the crs of the rasters and putting it into a variable\n",
    "ele_crs = elev.crs\n",
    "ele_crs"
   ]
  },
  {
   "cell_type": "code",
   "execution_count": null,
   "id": "south-stuart",
   "metadata": {},
   "outputs": [],
   "source": [
    "#getting information about the nodata value used by each raster and putting it into a variable\n",
    "ele_nodata = elev.nodata\n",
    "ele_nodata"
   ]
  },
  {
   "cell_type": "code",
   "execution_count": null,
   "id": "associate-conference",
   "metadata": {},
   "outputs": [],
   "source": [
    "#getting information about the nodata value used by each raster and putting it into a variable\n",
    "land_nodata = land.nodata\n",
    "land_nodata"
   ]
  },
  {
   "cell_type": "code",
   "execution_count": null,
   "id": "monthly-facial",
   "metadata": {},
   "outputs": [],
   "source": [
    "#getting information about the number of rows and columns in each raster and putting it into a variable\n",
    "ele_shape = elev.shape\n",
    "ele_shape"
   ]
  },
  {
   "cell_type": "code",
   "execution_count": null,
   "id": "amino-balance",
   "metadata": {},
   "outputs": [],
   "source": [
    "#getting information about how to translate from row/column indices to spatial coordinates and putting it into a variable\n",
    "ele_transform = elev.transform\n",
    "ele_transform"
   ]
  },
  {
   "cell_type": "code",
   "execution_count": null,
   "id": "advanced-senegal",
   "metadata": {},
   "outputs": [],
   "source": [
    "elev.close()"
   ]
  },
  {
   "cell_type": "code",
   "execution_count": null,
   "id": "pleased-building",
   "metadata": {},
   "outputs": [],
   "source": [
    "land.close()"
   ]
  },
  {
   "cell_type": "markdown",
   "id": "adapted-mounting",
   "metadata": {},
   "source": [
    "## Reclassify Land Cover (10 pts)\n",
    "\n",
    "Although the land cover raster contains numeric data, each number is representative of a land cover type. This information is usually stored in the raster attribute table accompanying the raster. The land cover raster we are using also has an accompanying raster attribute table, but unfortunately RasterIO is not yet able to read raster attribute tables. Hence, you have to use the table below to map the numerical cell values to their corresponding land cover types.\n",
    "\n",
    "| Cell Value | Land Cover                       |\n",
    "| :--------: | -------------------------------- |\n",
    "|      0     | Water                            |\n",
    "|      1     | Evergreen Needleleaf Forest      |\n",
    "|      2     | Evergreen Broadleaf Forest       |\n",
    "|      3     | Deciduous Needleleaf Forest      |\n",
    "|      4     | Deciduous Broadleaf Forest       |\n",
    "|      5     | Mixed Forests                    |\n",
    "|      6     | Closed Shrublands                |\n",
    "|      7     | Open Shrublands                  |\n",
    "|      8     | Woody Savannas                   |\n",
    "|      9     | Savannas                         |\n",
    "|     10     | Grasslands                       |\n",
    "|     11     | Permanent Wetlands               |\n",
    "|     12     | Croplands                        |\n",
    "|     13     | Urban and Built-Up Areas         |\n",
    "|     14     | Cropland with Natural Vegetation |\n",
    "|     15     | Snow and Ice                     |\n",
    "|     16     | Barren or Sparsely Vegetated     |\n",
    "\n",
    "\n",
    "We would like to assign a risk score ranging from one to five (with one denoting lowest risk and five denoting highest risk) to each of the land cover types as specified below.\n",
    "\n",
    "| Land Cover Types                     | Land Cover Codes  | Risk Level     | Risk Score |\n",
    "| ------------------------------------ | ----------------- | -------------- | :--------: |\n",
    "| Water and Wetlands                   | 0, 11             | Very high risk |      5     |\n",
    "| Croplands and Natural Vegetation     | 12, 14            | High risk      |      4     |\n",
    "| Shrublands, Grasslands, and Savannas | 6, 7, 8, 9, 10    | Medium risk    |      3     |\n",
    "| Forests and Urban/Built-Up Areas     | 1, 2, 3, 4, 5, 13 | Low risk       |      2     |\n",
    "| Snow/Ice and Barren Land             | 15, 16            | Very low risk  |      1     |\n",
    "\n",
    "\n",
    "Create a reclassified land cover raster as follows:\n",
    "1. Use [`np.full()`](https://numpy.org/doc/stable/reference/generated/numpy.full.html) to create an empty array filled with `np.NaN` that matches the `shape` of the land cover raster.\n",
    "2. Utilize [boolean indexing](https://numpy.org/doc/stable/reference/arrays.indexing.html#boolean-array-indexing) to fill the newly created raster based on values of the `landcover` data matrix.\n",
    "\n",
    "Once you have created the reclassified land cover raster, visualize it with using the appropriate `transform` and the `\"RdYlBu_r\"` (reversed red-yellow-blue) colormap."
   ]
  },
  {
   "cell_type": "markdown",
   "id": "nominated-person",
   "metadata": {},
   "source": [
    "## Visualize the Raster Datasets (5 pts)\n",
    "\n",
    "Use the RasterIO [`show()`](https://rasterio.readthedocs.io/en/latest/api/rasterio.plot.html#rasterio.plot.show) function to visualize both raster datasets and ensure they were read in correctly. Make sure to specify the `transform` to see actual spatial coordinates on the axes. Also use the `cmap` attribute to specify appropriate [Matplotlib colormaps](https://matplotlib.org/stable/tutorials/colors/colormaps.html) for each dataset. Remember that land cover data is categorical, so you should use a categorical color map for that visualization."
   ]
  },
  {
   "cell_type": "code",
   "execution_count": null,
   "id": "ranking-wisconsin",
   "metadata": {},
   "outputs": [],
   "source": [
    "#visualised the elevation raster dataset and ensuring that it was read in correctly \n",
    "show(elevation, transform=ele_transform, cmap='RdYlBu_r')\n",
    "plt.show()"
   ]
  },
  {
   "cell_type": "code",
   "execution_count": null,
   "id": "double-silver",
   "metadata": {},
   "outputs": [],
   "source": [
    "#visualised the landcover raster dataset and ensuring that it was read in correctly \n",
    "show(landcover, transform=ele_transform, cmap='RdYlBu_r')\n",
    "plt.show()"
   ]
  },
  {
   "cell_type": "markdown",
   "id": "printable-nancy",
   "metadata": {},
   "source": [
    "## Reclassify Land Cover (10 pts)\n",
    "\n",
    "Although the land cover raster contains numeric data, each number is representative of a land cover type. This information is usually stored in the raster attribute table accompanying the raster. The land cover raster we are using also has an accompanying raster attribute table, but unfortunately RasterIO is not yet able to read raster attribute tables. Hence, you have to use the table below to map the numerical cell values to their corresponding land cover types.\n",
    "\n",
    "| Cell Value | Land Cover                       |\n",
    "| :--------: | -------------------------------- |\n",
    "|      0     | Water                            |\n",
    "|      1     | Evergreen Needleleaf Forest      |\n",
    "|      2     | Evergreen Broadleaf Forest       |\n",
    "|      3     | Deciduous Needleleaf Forest      |\n",
    "|      4     | Deciduous Broadleaf Forest       |\n",
    "|      5     | Mixed Forests                    |\n",
    "|      6     | Closed Shrublands                |\n",
    "|      7     | Open Shrublands                  |\n",
    "|      8     | Woody Savannas                   |\n",
    "|      9     | Savannas                         |\n",
    "|     10     | Grasslands                       |\n",
    "|     11     | Permanent Wetlands               |\n",
    "|     12     | Croplands                        |\n",
    "|     13     | Urban and Built-Up Areas         |\n",
    "|     14     | Cropland with Natural Vegetation |\n",
    "|     15     | Snow and Ice                     |\n",
    "|     16     | Barren or Sparsely Vegetated     |\n",
    "\n",
    "\n",
    "We would like to assign a risk score ranging from one to five (with one denoting lowest risk and five denoting highest risk) to each of the land cover types as specified below.\n",
    "\n",
    "| Land Cover Types                     | Land Cover Codes  | Risk Level     | Risk Score |\n",
    "| ------------------------------------ | ----------------- | -------------- | :--------: |\n",
    "| Water and Wetlands                   | 0, 11             | Very high risk |      5     |\n",
    "| Croplands and Natural Vegetation     | 12, 14            | High risk      |      4     |\n",
    "| Shrublands, Grasslands, and Savannas | 6, 7, 8, 9, 10    | Medium risk    |      3     |\n",
    "| Forests and Urban/Built-Up Areas     | 1, 2, 3, 4, 5, 13 | Low risk       |      2     |\n",
    "| Snow/Ice and Barren Land             | 15, 16            | Very low risk  |      1     |\n",
    "\n",
    "\n",
    "Create a reclassified land cover raster as follows:\n",
    "1. Use [`np.full()`](https://numpy.org/doc/stable/reference/generated/numpy.full.html) to create an empty array filled with `np.NaN` that matches the `shape` of the land cover raster.\n",
    "2. Utilize [boolean indexing](https://numpy.org/doc/stable/reference/arrays.indexing.html#boolean-array-indexing) to fill the newly created raster based on values of the `landcover` data matrix.\n",
    "\n",
    "Once you have created the reclassified land cover raster, visualize it with using the appropriate `transform` and the `\"RdYlBu_r\"` (reversed red-yellow-blue) colormap."
   ]
  },
  {
   "cell_type": "code",
   "execution_count": null,
   "id": "indian-excellence",
   "metadata": {},
   "outputs": [],
   "source": [
    "#create an empty array filled with np.NaN that matches the shape of the land cover raster.\n",
    "land_reclass = np.full(ele_shape, np.NaN)"
   ]
  },
  {
   "cell_type": "code",
   "execution_count": null,
   "id": "unable-orbit",
   "metadata": {},
   "outputs": [],
   "source": [
    "#Utilizing boolean indexing to fill the newly created raster based on values of the landcover data matrix \n",
    "land_reclass[(landcover==0) | (landcover == 11)] = 5\n",
    "land_reclass[(landcover== 12) | (landcover == 14)] = 4\n",
    "land_reclass[(landcover == 6) | (landcover == 7) | (landcover == 8) | (landcover == 9) | (landcover == 10)] = 3\n",
    "land_reclass[(landcover == 1) | (landcover == 2) | (landcover == 3) | (landcover == 4) | (landcover == 5) | (landcover == 13)] = 2\n",
    "land_reclass[(landcover == 15) | (landcover == 16)] = 5"
   ]
  },
  {
   "cell_type": "code",
   "execution_count": null,
   "id": "turkish-rhythm",
   "metadata": {},
   "outputs": [],
   "source": [
    "land_reclass"
   ]
  },
  {
   "cell_type": "code",
   "execution_count": null,
   "id": "abstract-ideal",
   "metadata": {},
   "outputs": [],
   "source": [
    "#visualising the reclassified land cover raster\n",
    "show(land_reclass, transform=ele_transform, cmap='RdYlBu_r')\n",
    "plt.show()"
   ]
  },
  {
   "cell_type": "markdown",
   "id": "innovative-ukraine",
   "metadata": {},
   "source": [
    "## Calculate Slope Raster (10 pts)\n",
    "\n",
    "Use [RichDEM](https://richdem.readthedocs.io/en/latest/) to calculate a slope raster as follows:\n",
    "1. Use `rd.rdarray()` to create an `rdarray` version of the `elevation` matrix. Make sure to specify the appropriate `no_data` value!\n",
    "2. Use `.to_gdal()` to convert the `transform` to the format expected by RichDEM and set that as the `.geotransform` attribute of the new `rdarray`.\n",
    "3. Use [`rd.TerrainAttribute()`](https://richdem.readthedocs.io/en/latest/python_api.html#richdem.TerrainAttribute) to calculate the `\"slope_percentage\"` attribute.\n",
    "\n",
    "Note that the values of the result matrix are slope percentages, meaning that they range from zero to one hundred. Make sure to take a look at the data matrix and visualize it using [`show()`](https://rasterio.readthedocs.io/en/latest/api/rasterio.plot.html#rasterio.plot.show) to validate your work."
   ]
  },
  {
   "cell_type": "code",
   "execution_count": null,
   "id": "warming-spencer",
   "metadata": {},
   "outputs": [],
   "source": [
    "#Use rd.rdarray() to create an rdarray version of the elevation matrix (using the elevation nodata value)\n",
    "elev_rd = rd.rdarray(elevation, no_data=ele_nodata)"
   ]
  },
  {
   "cell_type": "code",
   "execution_count": null,
   "id": "aerial-black",
   "metadata": {},
   "outputs": [],
   "source": [
    "#Using .to_gdal() to convert the transform to the format expected by RichDEM and set that as the .geotransform attribute of the new rdarray.\n",
    "elev_rd.geotransform = ele_transform.to_gdal()"
   ]
  },
  {
   "cell_type": "code",
   "execution_count": null,
   "id": "elementary-rating",
   "metadata": {},
   "outputs": [],
   "source": [
    "#Using rd.TerrainAttribute() to calculate the \"slope_percentage\" attribute\n",
    "slope = rd.TerrainAttribute(elev_rd, attrib='slope_percentage')"
   ]
  },
  {
   "cell_type": "code",
   "execution_count": null,
   "id": "ranging-insulation",
   "metadata": {},
   "outputs": [],
   "source": [
    "#checking the max slope percentage attribute\n",
    "slope.max()"
   ]
  },
  {
   "cell_type": "code",
   "execution_count": null,
   "id": "liberal-petite",
   "metadata": {},
   "outputs": [],
   "source": [
    "#checking the slope percentage attribute\n",
    "slope"
   ]
  },
  {
   "cell_type": "code",
   "execution_count": null,
   "id": "friendly-intensity",
   "metadata": {},
   "outputs": [],
   "source": [
    "#visualising the data matrix using show\n",
    "show(slope, transform=ele_transform)\n",
    "plt.show()"
   ]
  },
  {
   "cell_type": "markdown",
   "id": "upset-resistance",
   "metadata": {},
   "source": [
    "## Reclassify Slope Raster (10 pts)\n",
    "\n",
    "Create a reclassified slope raster as follows:\n",
    "1. Use [`np.full()`](https://numpy.org/doc/stable/reference/generated/numpy.full.html) to create an empty array filled with `np.NaN` that matches the `shape` of the slope raster.\n",
    "2. Utilize [boolean indexing](https://numpy.org/doc/stable/reference/arrays.indexing.html#boolean-array-indexing) to fill the newly created raster based on the following slope values.\n",
    "\n",
    "| Min Slope (Inclusive) | Max Slope (Exclusive) |   Risk Level   | Risk Score |\n",
    "| :-------------------: | :-------------------: | :------------: | :--------: |\n",
    "|          ...          |           2%          | Very high risk |      5     |\n",
    "|           2%          |           5%          |    High risk   |      4     |\n",
    "|           5%          |          12%          |   Medium risk  |      3     |\n",
    "|          12%          |          20%          |    Low risk    |      2     |\n",
    "|          20%          |          ...          |  Very low risk |      1     |\n",
    "\n",
    "\n",
    "Note that you will be repeating a similar workflow to reclassify other rasters numerous times. If you are up for the challenge, attempt to write a function for the reclassification procedure that will allow you to automate further reclassification attempts. Once you have created the reclassified slope raster, visualize it with using the appropriate `transform` and the `\"RdYlBu_r\"` (reversed red-yellow-blue) colormap."
   ]
  },
  {
   "cell_type": "code",
   "execution_count": null,
   "id": "continued-spare",
   "metadata": {},
   "outputs": [],
   "source": [
    "#using np.full() to create an empty array filled with np.NaN that matches the shape of the slope raster.\n",
    "slope_reclass = np.full(ele_shape, np.NaN)"
   ]
  },
  {
   "cell_type": "code",
   "execution_count": null,
   "id": "saved-cleaning",
   "metadata": {},
   "outputs": [],
   "source": [
    "#Using boolean indexing to fill the newly created raster based on the following slope values.\n",
    "slope_reclass[(slope > 0) & (slope <= 2)] = 5\n",
    "slope_reclass[(slope > 2) & (slope <= 5)] = 4\n",
    "slope_reclass[(slope > 5) & (slope <= 12)] = 3\n",
    "slope_reclass[(slope > 12) & (slope <= 20)] = 2\n",
    "slope_reclass[slope > 20] = 1"
   ]
  },
  {
   "cell_type": "code",
   "execution_count": null,
   "id": "compliant-still",
   "metadata": {},
   "outputs": [],
   "source": [
    "#visualising the reclassified slope raster using show\n",
    "show(slope_reclass, transform=ele_transform, cmap='RdYlBu_r')\n",
    "plt.show()"
   ]
  },
  {
   "cell_type": "markdown",
   "id": "practical-significance",
   "metadata": {},
   "source": [
    "## Reclassify Elevation Raster (10 pts)\n",
    "\n",
    "Create a reclassified elevation raster based on the following elevation values.\n",
    "\n",
    "| Min Elevation (Inclusive) | Max Elevation (Exclusive) |   Risk Level   | Risk Score |\n",
    "| :-----------------------: | :-----------------------: | :------------: | :--------: |\n",
    "|            ...            |             0             | Very high risk |      5     |\n",
    "|             0             |            500            |    High risk   |      4     |\n",
    "|            500            |            1200           |   Medium risk  |      3     |\n",
    "|            1200           |            3000           |    Low risk    |      2     |\n",
    "|            3000           |            ...            |  Very low risk |      1     |\n",
    "\n",
    "\n",
    "Once you have created the reclassified land elevation raster, visualize it with using the appropriate `transform` and the `\"RdYlBu_r\"` (reversed red-yellow-blue) colormap."
   ]
  },
  {
   "cell_type": "code",
   "execution_count": null,
   "id": "violent-passport",
   "metadata": {},
   "outputs": [],
   "source": [
    "#using np.full() to create an empty array filled with np.NaN that matches the shape of the elevation raster.\n",
    "elev_reclass = np.full(ele_shape, np.NaN)"
   ]
  },
  {
   "cell_type": "code",
   "execution_count": null,
   "id": "physical-gazette",
   "metadata": {},
   "outputs": [],
   "source": [
    "#Using boolean indexing to fill the newly created raster based on the following slope values.\n",
    "elev_reclass[(elevation > 0)] = 5\n",
    "elev_reclass[(elevation > 0) & (elevation <= 500)] = 4\n",
    "elev_reclass[(elevation > 500) & (elevation <= 1200)] = 3\n",
    "elev_reclass[(elevation > 1200) & (elevation <= 3000)] = 2\n",
    "elev_reclass[elevation > 3000] = 1"
   ]
  },
  {
   "cell_type": "code",
   "execution_count": null,
   "id": "specific-jersey",
   "metadata": {},
   "outputs": [],
   "source": [
    "#visualising the reclassified elevation raster using show\n",
    "show(elev_reclass, transform=ele_transform, cmap='RdYlBu_r')\n",
    "plt.show()"
   ]
  },
  {
   "cell_type": "markdown",
   "id": "published-salem",
   "metadata": {},
   "source": [
    "## Read in and Rasterize River Shapefile (10 pts)\n",
    "\n",
    "We could like to consider distance to rivers in our analysis. To do so, we must first calculate an euclidean distance raster where the value of each cell is the distance to the nearest river from that cell. To do so, we must first read in and rasterize the river shapefile as follows:\n",
    "\n",
    "1. Use [`gpd.read_file()`](https://geopandas.org/docs/reference/api/geopandas.read_file.html#geopandas.read_file) to read in the rivers shapefile.\n",
    "2. Use [`features.rasterize()`](https://rasterio.readthedocs.io/en/latest/api/rasterio.features.html#rasterio.features.rasterize) from RasterIO to convert the river shapefile into a binary raster where zero denotes a river and one denotes the lack of a river.\n",
    "    - Note that you should use the `\"geometry\"` column from the rivers GeoDataFrame as input.\n",
    "    - Remember to specify the appropriate `transform`.\n",
    "    - Use `default_value` to specify the value that should denote the presence of a river (0).\n",
    "    - Use `fill` to specify the value that should denote the lack of a river (1).\n",
    "    \n",
    "Visualize both the shapefile and the raster to make sure the conversion worked as expected. If you have a hard time seeing the river pixels of the raster, use the `\"flag\"` colormap to bring them out more."
   ]
  },
  {
   "cell_type": "code",
   "execution_count": null,
   "id": "dominican-straight",
   "metadata": {},
   "outputs": [],
   "source": [
    "#Using gpd.read_file() to read in the rivers shapefile.\n",
    "rivers = gpd.read_file('./data/water/rivers.shp')"
   ]
  },
  {
   "cell_type": "code",
   "execution_count": null,
   "id": "revolutionary-appearance",
   "metadata": {},
   "outputs": [],
   "source": [
    "#checking the information in the shapefile\n",
    "rivers.head()"
   ]
  },
  {
   "cell_type": "code",
   "execution_count": null,
   "id": "chubby-cache",
   "metadata": {},
   "outputs": [],
   "source": [
    "#Using features.rasterize() from RasterIO to convert the river shapefile into a binary raster where zero denotes a river and one denotes the lack of a river.\n",
    "riv_raster = features.rasterize(rivers['geometry'], out_shape=ele_shape, fill=1, transform=ele_transform, default_value=0)"
   ]
  },
  {
   "cell_type": "code",
   "execution_count": null,
   "id": "exceptional-marks",
   "metadata": {},
   "outputs": [],
   "source": [
    "riv_raster"
   ]
  },
  {
   "cell_type": "code",
   "execution_count": null,
   "id": "occasional-pitch",
   "metadata": {},
   "outputs": [],
   "source": [
    "#Visualizing the rivers raster to make sure the conversion worked as expected\n",
    "show(riv_raster, transform=ele_transform, cmap='flag')\n",
    "plt.show()"
   ]
  },
  {
   "cell_type": "code",
   "execution_count": null,
   "id": "raised-purpose",
   "metadata": {},
   "outputs": [],
   "source": [
    "#Visualizing the rivers shapefile to make sure the conversion worked as expected\n",
    "rivers.plot()\n",
    "plt.show()"
   ]
  },
  {
   "cell_type": "markdown",
   "id": "mechanical-walker",
   "metadata": {},
   "source": [
    "## Calculate Euclidean Distance Raster (5 pts)\n",
    "\n",
    "Now we are ready to create an euclidean distance matrix that denotes distances to the nearest river. This is a relatively simple two-step process:\n",
    "1. Use [`ndimage.distance_transform_edt()`](https://docs.scipy.org/doc/scipy/reference/generated/scipy.ndimage.distance_transform_edt.html) from SciPy to calculate the euclidean distance transform for the binary rivers raster.\n",
    "2. Multiply the distance transform raster with the raster cell size (width or length) to convert the distances from number of cells to spatial units.\n",
    "    - The `res` attribute you saved earlier should contain the dimensions of the square raster cell.\n",
    "    \n",
    "Note that this workflow assumes the raster to have square cells, which is the case for us. Once completed, visualize the distance raster to validate your work."
   ]
  },
  {
   "cell_type": "code",
   "execution_count": null,
   "id": "incorrect-beverage",
   "metadata": {},
   "outputs": [],
   "source": [
    "#Using ndimage.distance_transform_edt() from SciPy to calculate the euclidean distance transform for the binary rivers raster.\n",
    "nearest_river = ndimage.distance_transform_edt(riv_raster) * res[0]"
   ]
  },
  {
   "cell_type": "code",
   "execution_count": null,
   "id": "honest-george",
   "metadata": {},
   "outputs": [],
   "source": [
    "#visualising the distance raster (nearest_river) to validate work\n",
    "show(nearest_river, transform=ele_transform)\n",
    "plt.show()"
   ]
  },
  {
   "cell_type": "markdown",
   "id": "korean-arbitration",
   "metadata": {},
   "source": [
    "## Reclassify Distance Raster (10 pts)\n",
    "\n",
    "Create a reclassified river distance raster based on the following distance values. Remember that the distance values are in meters!\n",
    "\n",
    "| Min Distance (Inclusive) | Max Distance (Exclusive) |   Risk Level   | Risk Score |\n",
    "| :----------------------: | :----------------------: | :------------: | :--------: |\n",
    "|            ...           |      1 mile (1609 m)     | Very high risk |      5     |\n",
    "|      1 mile (1609 m)     |     5 miles (8046 m)     |    High risk   |      4     |\n",
    "|     5 miles (8046 m)     |    25 miles (40233 m)    |   Medium risk  |      3     |\n",
    "|    25 miles (40233 m)    |    75 miles (120701 m)   |    Low risk    |      2     |\n",
    "|    75 miles (120701 m)   |            ...           |  Very low risk |      1     |\n",
    "\n",
    "\n",
    "Once you have created the reclassified distance raster, visualize it using the appropriate `transform` and the `\"RdYlBu_r\"` (reversed red-yellow-blue) colormap."
   ]
  },
  {
   "cell_type": "code",
   "execution_count": null,
   "id": "pressed-center",
   "metadata": {},
   "outputs": [],
   "source": [
    "#reclassifying the river distance raster \n",
    "riv_reclass = np.full(ele_shape, np.NaN)\n",
    "riv_reclass[nearest_river <= 1609] = 5\n",
    "riv_reclass[(nearest_river > 1609) & (nearest_river <= 8046)] = 4\n",
    "riv_reclass[(nearest_river > 8046) & (nearest_river <= 40233)] = 3\n",
    "riv_reclass[(nearest_river > 40233) & (nearest_river <= 120701)] = 2\n",
    "riv_reclass[nearest_river > 120701] = 1"
   ]
  },
  {
   "cell_type": "code",
   "execution_count": null,
   "id": "minus-victor",
   "metadata": {},
   "outputs": [],
   "source": [
    "#visualizing the reclassified distance raster using the appropriate transform and the \"RdYlBu_r\" (reversed red-yellow-blue) colormap.\n",
    "show(riv_reclass, transform=ele_transform, cmap='RdYlBu_r')\n",
    "plt.show()"
   ]
  },
  {
   "cell_type": "markdown",
   "id": "connected-logging",
   "metadata": {},
   "source": [
    "## Calculate Weighted and Unweighted Risk Rasters (5 pts)\n",
    "\n",
    "Create and visualize both a weighted and an unweighted risk raster. For the unweighed risk raster, just add up all the reclassified rasters. For the weighted risk raster, assign the following weights to each component.\n",
    "\n",
    "| Component          | Weight |\n",
    "| ------------------ | :----: |\n",
    "| Distance to rivers |   35%  |\n",
    "| Land cover         |   25%  |\n",
    "| Slope              |   25%  |\n",
    "| Elevation          |   15%  |\n",
    "\n",
    "When visualizing the rasters, use the appropriate `transform` and the `\"RdYlBu_r\"` (reversed red-yellow-blue) colormap as before."
   ]
  },
  {
   "cell_type": "code",
   "execution_count": null,
   "id": "political-incidence",
   "metadata": {},
   "outputs": [],
   "source": [
    "#unweighted risk raster\n",
    "risk_raster = slope_reclass + riv_reclass + elev_reclass + land_reclass"
   ]
  },
  {
   "cell_type": "code",
   "execution_count": null,
   "id": "fallen-airport",
   "metadata": {},
   "outputs": [],
   "source": [
    "#checking the unweighted risk raster\n",
    "risk_raster"
   ]
  },
  {
   "cell_type": "code",
   "execution_count": null,
   "id": "median-english",
   "metadata": {},
   "outputs": [],
   "source": [
    "#visualising unweighted risk raster\n",
    "show(risk_raster, transform=ele_transform, cmap='RdYlBu_r')\n",
    "plt.show()"
   ]
  },
  {
   "cell_type": "code",
   "execution_count": null,
   "id": "national-palestinian",
   "metadata": {},
   "outputs": [],
   "source": [
    "#calculating weighted risk raster\n",
    "weighted_risk = slope_reclass * 0.25 + riv_reclass * 0.35 + elev_reclass * 0.15 + land_reclass * 0.25"
   ]
  },
  {
   "cell_type": "code",
   "execution_count": null,
   "id": "golden-chambers",
   "metadata": {},
   "outputs": [],
   "source": [
    "#checking weighted risk raster\n",
    "weighted_risk"
   ]
  },
  {
   "cell_type": "code",
   "execution_count": null,
   "id": "falling-pickup",
   "metadata": {},
   "outputs": [],
   "source": [
    "#visualising weighted risk raster\n",
    "show(weighted_risk, transform=ele_transform, cmap='RdYlBu_r')\n",
    "plt.show()"
   ]
  },
  {
   "cell_type": "markdown",
   "id": "hispanic-optics",
   "metadata": {},
   "source": [
    "## Mask the Risk Rasters (10 pts)\n",
    "\n",
    "Because the rivers shapefile was confined to the boundaries of Ethiopia and the elevation DEM contained some missing data outside of the boundaries of Ethiopia, our risk rasters only have accurate values within the boundaries of Ethiopia. Hence we should mask the risk rasters to the boundaries of Ethiopia by marking all cells outside of Ethiopia as `np.NaN` to denote no data. This can be done as follows:\n",
    "\n",
    "1. Use [`gpd.read_file()`](https://geopandas.org/docs/reference/api/geopandas.read_file.html#geopandas.read_file) to read in the boundaries of Ethiopia.\n",
    "2. Use [`features.rasterize()`](https://rasterio.readthedocs.io/en/latest/api/rasterio.features.html#rasterio.features.rasterize) from RasterIO to convert the Ethiopia shapefile into a binary raster.\n",
    "3. Use [boolean indexing](https://numpy.org/doc/stable/reference/arrays.indexing.html#boolean-array-indexing) to replace all cells in the risk rasters that are not within Ethiopia with `np.NaN`.\n",
    "\n",
    "Once you have masked the risk rasters, visualize them again using the appropriate `transform` and the `\"RdYlBu_r\"` (reversed red-yellow-blue) colormap."
   ]
  },
  {
   "cell_type": "code",
   "execution_count": null,
   "id": "blocked-champagne",
   "metadata": {},
   "outputs": [],
   "source": [
    "#Using gpd.read_file() to read in the boundaries of Ethiopia.\n",
    "ethiopia = gpd.read_file('./data/boundaries/ethiopia.shp')"
   ]
  },
  {
   "cell_type": "code",
   "execution_count": null,
   "id": "literary-ranking",
   "metadata": {},
   "outputs": [],
   "source": [
    "#Using features.rasterize() from RasterIO to convert the Ethiopia shapefile into a binary raster.\n",
    "ethiopia_raster = features.rasterize(ethiopia['geometry'], out_shape=ele_shape, fill=1, transform=ele_transform, default_value=0)"
   ]
  },
  {
   "cell_type": "code",
   "execution_count": null,
   "id": "prescription-campaign",
   "metadata": {},
   "outputs": [],
   "source": [
    "#Using boolean indexing to replace all cells in the risk rasters that are not within Ethiopia with np.NaN.\n",
    "ethiopia_reclass = np.full(ele_shape, np.NaN)"
   ]
  },
  {
   "cell_type": "code",
   "execution_count": null,
   "id": "unusual-pocket",
   "metadata": {},
   "outputs": [],
   "source": [
    "#visualising weighted risk raster\n",
    "show(weighted_risk, transform=ele_transform, cmap='RdYlBu_r')\n",
    "plt.show()"
   ]
  },
  {
   "cell_type": "code",
   "execution_count": null,
   "id": "destroyed-debut",
   "metadata": {},
   "outputs": [],
   "source": [
    "#visualising unweighted risk raster\n",
    "show(risk_raster, transform=ele_transform, cmap='RdYlBu_r')\n",
    "plt.show()"
   ]
  },
  {
   "cell_type": "markdown",
   "id": "federal-fiber",
   "metadata": {},
   "source": [
    "## Extra Credit: Calculate Zonal Statistics (20 pts)\n",
    "\n",
    "Determine the administrative zone with the highest risk as follows:\n",
    "\n",
    "1. Use [`gpd.read_file()`](https://geopandas.org/docs/reference/api/geopandas.read_file.html#geopandas.read_file) to read in the administrative zones shapefile.\n",
    "2. Visualize the administrative zone boundaries on top of the masked weighted risk raster.\n",
    "3. Use the [`rasterstats`](https://pythonhosted.org/rasterstats/index.html) package to calculate the average weighted risk for each administrative zone.\n",
    "4. Add the calculated average weighted risk values to the administrative zones GeoDataFrame.\n",
    "5. Sort the administrative zones GeoDataFrame on the average weighted risk values and report the zone with the highest risk.\n",
    "5. Visualize the administrative zones on a red-yellow-blue choropleth map where higher risk zones are colored red and lower risk zones are colored blue."
   ]
  },
  {
   "cell_type": "code",
   "execution_count": null,
   "id": "appointed-avenue",
   "metadata": {},
   "outputs": [],
   "source": []
  }
 ],
 "metadata": {
  "kernelspec": {
   "display_name": "Python 3",
   "language": "python",
   "name": "python3"
  },
  "language_info": {
   "codemirror_mode": {
    "name": "ipython",
    "version": 3
   },
   "file_extension": ".py",
   "mimetype": "text/x-python",
   "name": "python",
   "nbconvert_exporter": "python",
   "pygments_lexer": "ipython3",
   "version": "3.8.6"
  }
 },
 "nbformat": 4,
 "nbformat_minor": 5
}
