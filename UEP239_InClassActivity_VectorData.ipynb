{
 "cells": [
  {
   "cell_type": "markdown",
   "metadata": {},
   "source": [
    "# UEP 239 In-Class Activity \n",
    "### Vector data in Python \n",
    "\n",
    "---\n",
    "Kyle Monahan, Chris Barnett, Patrick Florance | April 2021\n",
    "\n",
    "The goal of this activity is to provide an introduction to how to load spatial data in  Python. In this session, we will cover:\n",
    "\n",
    "\n",
    "* Reading and writing spatial data; how to join tabular and vector data\n",
    "* Checking coordinate systems with geopandas\n",
    "* Calculating basic operations on vector data (area, distance)\n",
    "* Performing spatial joins for vector data\n",
    "* Visualizing vector data with geopandas, matplotlib, and shapely\n",
    "* Geocoding addresses\n",
    "\n",
    "---"
   ]
  },
  {
   "cell_type": "markdown",
   "metadata": {},
   "source": [
    "## Getting started with the data \n",
    "\n",
    "No matter what type of data we are working with, we need to start by importing libraries and loading the data."
   ]
  },
  {
   "cell_type": "markdown",
   "metadata": {},
   "source": [
    "## Importing libraries \n",
    "\n",
    "We can import libraries with the code below. We do this once per session. "
   ]
  },
  {
   "cell_type": "code",
   "execution_count": null,
   "metadata": {},
   "outputs": [],
   "source": [
    "import numpy as np               # Load numpy, for scientific computing in Python - matrices are your friend here, like MATLAB https://numpy.org/\n",
    "                                 # You can even run Fortran and C++ code in numpy\n",
    "    \n",
    "import pandas as pd              # Load pandas, for data frames - note these are just the same as R data frames - similar to dplyr/plyr \n",
    "import matplotlib.pyplot as plt  # Load matplotlib for plotting and \n",
    "import matplotlib.image as mpimg # For plotting image (raster) data\n",
    "\n",
    "%matplotlib inline               \n",
    "# ^ Remind Jupyter to give us the results of matplotlib inline (right below the cell) - this is called Jupyter magic  \n",
    "\n",
    "#!pip install seaborn\n",
    "#!pip install seaborn --upgrade\n",
    "\n",
    "import seaborn as sns            # Seaborn is similar to matplotlib, but has additional features and a slightly different approach "
   ]
  },
  {
   "cell_type": "markdown",
   "metadata": {},
   "source": [
    "#### Loading and working with a shapefile\n",
    "\n",
    "Just as before, we will load and work with a shapefile. Note that the ☆ means this section will be covered in the homework, and you should review this code when working on the homework. "
   ]
  },
  {
   "cell_type": "markdown",
   "metadata": {},
   "source": [
    "### ☆ Reading and writing spatial data; how to join tabular and vector data\n",
    "\n",
    "\n",
    "For this work, we will be loading a few datasets:\n",
    "\n",
    "1. AirBnB data for New York City in 2019 in tabular form (CSV)\n",
    "2. Bussiness data from Reference USA in tabular form (CSV)\n",
    "3. Bouroughs vector data from GitHub in geojson format\n",
    "\n",
    "To do this, we will have to learn how to join tabular and vector data. "
   ]
  },
  {
   "cell_type": "markdown",
   "metadata": {},
   "source": [
    "### Loading the data \n",
    "\n",
    "To load the CSV data, we can use **pandas**, just as we did previously.\n",
    "\n",
    "#### Dataset 1 - New York AirBnB data\n",
    "\n",
    "For our first dataset, we are working with the New York AirBnB data. This was originally drawn from Kaggle in 2019: https://www.kaggle.com/dgomonov/new-york-city-airbnb-open-data\n",
    "\n",
    "If you look into the source of this data, it's actually just InsideAirBnB, but I used this version since they have done some cleaning for us already, and we already discussed pandas data cleaning. Plus you can review lots of approaches to doing this in Python on Kaggle. \n",
    "\n",
    "PROTIP: Always check out the source of any new datasets and especially any metadata. "
   ]
  },
  {
   "cell_type": "code",
   "execution_count": null,
   "metadata": {},
   "outputs": [],
   "source": [
    "import os \n",
    "os.getcwd()\n",
    "# If you need to change your working directory, you can do that with the below\n",
    "#os.chdir(r'C:\\Users\\kmonah02\\Box\\Classes\\Uku_Class_Guest_Lecture\\UEP239\\VectorData\\3_InClass')"
   ]
  },
  {
   "cell_type": "code",
   "execution_count": null,
   "metadata": {},
   "outputs": [],
   "source": [
    "airbnbNYC = pd.read_csv('Data/AB_NYC_2019.csv')\n",
    "airbnbNYC.head(2)"
   ]
  },
  {
   "cell_type": "code",
   "execution_count": null,
   "metadata": {},
   "outputs": [],
   "source": [
    "airbnbNYC.info()"
   ]
  },
  {
   "cell_type": "code",
   "execution_count": null,
   "metadata": {},
   "outputs": [],
   "source": [
    "airbnbNYC.value_counts()"
   ]
  },
  {
   "cell_type": "code",
   "execution_count": null,
   "metadata": {},
   "outputs": [],
   "source": [
    "airbnbNYC.describe()"
   ]
  },
  {
   "cell_type": "markdown",
   "metadata": {},
   "source": [
    "#### Dataset 2 - Reference USA data\n",
    "\n",
    "Next, we will check out the ReferenceUSA datasets. See the link here for more information:\n",
    "\n",
    "https://sites.tufts.edu/datalab/tufts-subscriptionsholdings/#ReferenceUSA\n",
    "\n",
    "#### Steps to download this data on your own\n",
    "Login to Tufts VPN or Virtual Lab > Navigate to the Tufts catalog link at the link above > Click US Bussinesses Database > Advanced Search > Select Verified and Unverfied > Select New York, NY > Keyword SIC NAICS > Search for \"Health\" and Find Health Food Grocers 44511007 > Select all records > Download > Download CSV.\n",
    "\n"
   ]
  },
  {
   "cell_type": "markdown",
   "metadata": {},
   "source": [
    "> **BREAKOUT GROUP ACTIVITY (20 minutes)**: Give the above steps a try in groups to download a sample dataset. Try different keyword searches to see what appears! We will use an example dataset for class today, but this may be useful for your projects.\n",
    "\n",
    "\n",
    "#### Loading the data"
   ]
  },
  {
   "cell_type": "code",
   "execution_count": null,
   "metadata": {},
   "outputs": [],
   "source": [
    "import geopandas as gpd\n",
    "foods_NYC = gpd.read_file('Data/NYC_HealthFoods.csv')\n",
    "foods_NYC.head(2)"
   ]
  },
  {
   "cell_type": "markdown",
   "metadata": {},
   "source": [
    "Note how we can read this column in as a geopandas dataframe, but it is missing the **geometry** column. Why would this be?\n",
    "\n",
    "\n",
    "#### Dataset 3 Bouroughs data \n"
   ]
  },
  {
   "cell_type": "code",
   "execution_count": null,
   "metadata": {},
   "outputs": [],
   "source": [
    "bour = gpd.read_file(\"https://raw.githubusercontent.com/codeforamerica/click_that_hood/master/public/data/new-york-city-boroughs.geojson\")\n",
    "bour.head(2)\n",
    "\n",
    "# Please don't run this over and over since we are pulling from github "
   ]
  },
  {
   "cell_type": "markdown",
   "metadata": {},
   "source": [
    "Unlike the previous dataset, the geojson file has a geometry column. Let's look at the raw data to see why. \n",
    "\n",
    "https://raw.githubusercontent.com/codeforamerica/click_that_hood/master/public/data/new-york-city-boroughs.geojson\n",
    "\n",
    "> **BREAKOUT GROUP ACTIVITY (10 minutes)**: Click on the link above. What is different about this data that allows for geopandas to \"know\" the geometry of the shapes? Look into the geopandas documentation on loading GEOJSON files, and state where in the GEOJSON file you can see that information. How is it stored?\n"
   ]
  },
  {
   "cell_type": "markdown",
   "metadata": {},
   "source": [
    "### ☆ Checking coordinate systems with geopandas\n",
    "\n",
    "Before we think about spatial joins, we need to check to see what coordinate system (CRS) the files are in."
   ]
  },
  {
   "cell_type": "code",
   "execution_count": null,
   "metadata": {},
   "outputs": [],
   "source": [
    "bour.crs  # WGS 1984 "
   ]
  },
  {
   "cell_type": "code",
   "execution_count": null,
   "metadata": {},
   "outputs": [],
   "source": [
    "airbnbNYC.crs"
   ]
  },
  {
   "cell_type": "markdown",
   "metadata": {},
   "source": [
    "Note how the airbnb data is missing a **crs** attribute - it is only of class dataframe, not geodataframe. We can confirm this as follows:"
   ]
  },
  {
   "cell_type": "code",
   "execution_count": null,
   "metadata": {},
   "outputs": [],
   "source": [
    "type(airbnbNYC)"
   ]
  },
  {
   "cell_type": "code",
   "execution_count": null,
   "metadata": {},
   "outputs": [],
   "source": [
    "type(bour)"
   ]
  },
  {
   "cell_type": "markdown",
   "metadata": {},
   "source": [
    "### ☆ Performing attribute joins for vector data \n",
    "\n",
    "So it's clear we need to add **geographic information** to the vector data in order to work with it. To do that, we can *join* the data. There are two main ways to join data in geopandas: \n",
    "\n",
    "1) attribute joins \n",
    "2) spatial joins. \n",
    "\n",
    "See the documentation here: https://geopandas.org/docs/user_guide/mergingdata.html\n",
    "\n",
    "PROTIP: Always look at the *documentation* while you are coding! A few minutes reading the documentation before you start can save hours of headaches. I normally only do this after the hours of headaches, but you don't need to.\n",
    "\n",
    "> **BREAKOUT GROUPS (10 min):** What is the difference between a spatial join and an attribute join? When do you use each one? \n"
   ]
  },
  {
   "cell_type": "code",
   "execution_count": null,
   "metadata": {},
   "outputs": [],
   "source": [
    "airbnbNYC.merge(bour,left_on='neighbourhood', right_on='name')\n",
    "\n",
    "# Note - you'll use a similar approach to join tabular data on your homework, and it does work there!"
   ]
  },
  {
   "cell_type": "markdown",
   "metadata": {},
   "source": [
    "But this failed! Why? Let's look at the unique values in each."
   ]
  },
  {
   "cell_type": "code",
   "execution_count": null,
   "metadata": {},
   "outputs": [],
   "source": [
    "airbnbNYC.neighbourhood.unique()"
   ]
  },
  {
   "cell_type": "code",
   "execution_count": null,
   "metadata": {},
   "outputs": [],
   "source": [
    "bour.name.unique()"
   ]
  },
  {
   "cell_type": "code",
   "execution_count": null,
   "metadata": {},
   "outputs": [],
   "source": [
    "# We can also use .isin() to check if \n",
    "# these values are in the other column \n",
    "\n",
    "airbnbNYC.isin(bour.name).describe()"
   ]
  },
  {
   "cell_type": "markdown",
   "metadata": {},
   "source": [
    "If we knew anything about New York City's geography, we would know that the bouroughs and the neighbourhoods do not align! So what can we do? Luckily, with geopandas, we can add back the geographic data using lat and long values! \n",
    "#### Convert from xy (lat long) inside CSV to geopandas data frame"
   ]
  },
  {
   "cell_type": "code",
   "execution_count": null,
   "metadata": {},
   "outputs": [],
   "source": [
    "airbnbNYC = gpd.GeoDataFrame(\n",
    "    airbnbNYC, geometry=gpd.points_from_xy(airbnbNYC.longitude, airbnbNYC.latitude))\n",
    "airbnbNYC.head(2)"
   ]
  },
  {
   "cell_type": "markdown",
   "metadata": {},
   "source": [
    "**QUESTION:** How do we know that this worked, looking at the table above?"
   ]
  },
  {
   "cell_type": "code",
   "execution_count": null,
   "metadata": {},
   "outputs": [],
   "source": [
    "airbnbNYC.crs # Returns... nothing? That's because it is not defined! \n",
    "airbnbNYC = airbnbNYC.set_crs('epsg:4326')\n",
    "\n",
    "airbnbNYC.plot(column='price')\n"
   ]
  },
  {
   "cell_type": "markdown",
   "metadata": {},
   "source": [
    "**QUESTION:** What is wrong with the above graph? What can we do to fix it?\n",
    "\n",
    "##### An example approach of how to figure out what is wrong"
   ]
  },
  {
   "cell_type": "code",
   "execution_count": null,
   "metadata": {},
   "outputs": [],
   "source": [
    "airbnbNYC.price.max()"
   ]
  },
  {
   "cell_type": "code",
   "execution_count": null,
   "metadata": {},
   "outputs": [],
   "source": [
    "airbnbNYC.price.min()"
   ]
  },
  {
   "cell_type": "code",
   "execution_count": null,
   "metadata": {},
   "outputs": [],
   "source": [
    "airbnbNYC.price.mean()"
   ]
  },
  {
   "cell_type": "code",
   "execution_count": null,
   "metadata": {},
   "outputs": [],
   "source": [
    "airbnbNYC = airbnbNYC[airbnbNYC['price'] < 9999]\n",
    "airbnbNYC['price'] = airbnbNYC['price'].replace({0:np.nan})"
   ]
  },
  {
   "cell_type": "code",
   "execution_count": null,
   "metadata": {},
   "outputs": [],
   "source": [
    "airbnbNYC.price.max()"
   ]
  },
  {
   "cell_type": "code",
   "execution_count": null,
   "metadata": {},
   "outputs": [],
   "source": [
    "airbnbNYC['log_price'] = np.log(airbnbNYC['price'])\n",
    "airbnbNYC.plot(column='log_price')"
   ]
  },
  {
   "cell_type": "markdown",
   "metadata": {},
   "source": [
    "### ☆ Performing spatial joins for vector data\n",
    "Now we need to spatially join these data. \n",
    "\n",
    "> **BREAKOUT GROUP ACTIVITY (10 minutes)**: Find an example of a spatial join using the gpd.sjoin() command online, and look at the commands. Tip - look at the geopandas documentation."
   ]
  },
  {
   "cell_type": "markdown",
   "metadata": {},
   "source": [
    "**QUESTIONS:** Any questions on what we covered so far?"
   ]
  },
  {
   "cell_type": "code",
   "execution_count": null,
   "metadata": {},
   "outputs": [],
   "source": [
    "airbnbNYC.crs == bour.crs"
   ]
  },
  {
   "cell_type": "code",
   "execution_count": null,
   "metadata": {},
   "outputs": [],
   "source": [
    "# Only shared rooms\n",
    "shared_only = airbnbNYC[airbnbNYC['room_type'] == 'Shared room']\n",
    "joined_data = gpd.sjoin(bour, shared_only, how='inner', op='contains', lsuffix='left', rsuffix='right')\n",
    "joined_data.head(2)"
   ]
  },
  {
   "cell_type": "code",
   "execution_count": null,
   "metadata": {},
   "outputs": [],
   "source": [
    "joined_data.shape"
   ]
  },
  {
   "cell_type": "markdown",
   "metadata": {},
   "source": [
    "### ☆ Calculating basic operations on vector data (area, distance)\n",
    "\n",
    "Next, we may wish to find the area of each of these polygon observations.\n",
    "\n",
    "Note, what do I need to do to the joined_data in order to correctly calculate area?"
   ]
  },
  {
   "cell_type": "code",
   "execution_count": null,
   "metadata": {},
   "outputs": [],
   "source": [
    "joined_data = joined_data.to_crs('epsg:2263') # Long Island State Plain\n",
    "joined_data['area'] = joined_data.area"
   ]
  },
  {
   "cell_type": "markdown",
   "metadata": {},
   "source": [
    "We can also calculate a new column:"
   ]
  },
  {
   "cell_type": "code",
   "execution_count": null,
   "metadata": {},
   "outputs": [],
   "source": [
    "joined_data['log_price_per_area'] = joined_data.log_price / joined_data.area\n",
    "joined_data.log_price_per_area.max()"
   ]
  },
  {
   "cell_type": "markdown",
   "metadata": {},
   "source": [
    "### ☆ Geocoding addresses\n",
    "\n",
    "Finally, we may need to look up place names or addresses in a geocoder.\n",
    "\n",
    "A geocoder will convert a place name e.g. Tufts University to a latitude and longitude location. "
   ]
  },
  {
   "cell_type": "markdown",
   "metadata": {},
   "source": [
    "> **BREAKOUT GROUP ACTIVITY (35 minutes)**: Learn more about the geocoders we will use to complete this class and for the next homework. \n",
    "\n",
    "Nominatim geocoder policy: \n",
    "https://operations.osmfoundation.org/policies/nominatim/\n",
    "\n",
    "Geocode.farm policy:\n",
    "https://geocode.farm/geocoding/free-api-documentation/\n",
    "\n",
    "Think about the following questions:\n",
    "1. What are the limits for our use?\n",
    "2. If Tufts has a single IP address, why does it matter if we have a 250 requests per day per IP address? \n",
    "3. Why do these services require a user string, commonly populated with an email? \n",
    "\n",
    "Produce a summary of your thoughts to share with the group."
   ]
  },
  {
   "cell_type": "markdown",
   "metadata": {},
   "source": [
    "#### How to geocode our health food data \n",
    "\n",
    "We don't have geographic information on the foods_NYC data, but we do have addresses. We need to geocode those addresses."
   ]
  },
  {
   "cell_type": "code",
   "execution_count": null,
   "metadata": {},
   "outputs": [],
   "source": [
    "foods_NYC.head(2)\n"
   ]
  },
  {
   "cell_type": "code",
   "execution_count": null,
   "metadata": {},
   "outputs": [],
   "source": [
    "foods_NYC[\"Full Address\"] = foods_NYC['Address'] + foods_NYC[\"City\"] + foods_NYC['State'] + foods_NYC['ZIP Code']"
   ]
  },
  {
   "cell_type": "code",
   "execution_count": null,
   "metadata": {},
   "outputs": [],
   "source": [
    "foods_NYC.shape"
   ]
  },
  {
   "cell_type": "code",
   "execution_count": null,
   "metadata": {},
   "outputs": [],
   "source": [
    "foods_NYC.columns.tolist()[110:130]"
   ]
  },
  {
   "cell_type": "code",
   "execution_count": null,
   "metadata": {},
   "outputs": [],
   "source": [
    "foods_NYC['Home Business'].unique()"
   ]
  },
  {
   "cell_type": "code",
   "execution_count": null,
   "metadata": {},
   "outputs": [],
   "source": [
    "foods_NYC = foods_NYC[foods_NYC['Home Business'] == 'No']"
   ]
  },
  {
   "cell_type": "code",
   "execution_count": null,
   "metadata": {},
   "outputs": [],
   "source": [
    "foods_NYC.shape"
   ]
  },
  {
   "cell_type": "code",
   "execution_count": null,
   "metadata": {},
   "outputs": [],
   "source": [
    "foods_NYC['Year Established'].unique()"
   ]
  },
  {
   "cell_type": "code",
   "execution_count": null,
   "metadata": {},
   "outputs": [],
   "source": [
    "#foods_NYC = foods_NYC[foods_NYC['Year Established'] == '2018']\n",
    "#foods_NYC.shape"
   ]
  },
  {
   "cell_type": "code",
   "execution_count": null,
   "metadata": {},
   "outputs": [],
   "source": [
    "from geopy.geocoders import Nominatim\n",
    "from geopy.exc import GeocoderTimedOut\n",
    "\n",
    "found_locations = []\n",
    "lat = []\n",
    "long = []\n",
    "\n",
    "# Change this string!\n",
    "geolocator = Nominatim(user_agent='kyle.monahan@tufts.edu')\n",
    "for address in foods_NYC[\"Full Address\"].iteritems():\n",
    "    try:\n",
    "        location = geolocator.geocode(address[1])\n",
    "        print(\"The location is\",location)\n",
    "        found_locations.append(location)\n",
    "        if location is not None:\n",
    "            lat.append(location[1][0])\n",
    "            long.append(location[1][1])\n",
    "        else:\n",
    "            lat.append(None)\n",
    "            long.append(None)\n",
    "    except GeocoderTimedOut as e:\n",
    "        print(\"Error: geocode failed on input %s with message %s\"%(my_address, e.message))\n"
   ]
  },
  {
   "cell_type": "markdown",
   "metadata": {},
   "source": [
    "### We made it!\n",
    "We made it! Now we are ready to get started with spatial data in Python.\n",
    "\n",
    "To summarize what we learned: \n",
    "\n",
    "* Reading and writing spatial data; how to join tabular and vector data\n",
    "* Checking coordinate systems with geopandas\n",
    "* Calculating basic operations on vector data (area, distance)\n",
    "* Performing spatial joins for vector data\n",
    "* Visualizing vector data with geopandas, matplotlib, and shapely\n",
    "* Geocoding addresses"
   ]
  },
  {
   "cell_type": "markdown",
   "metadata": {},
   "source": [
    "### Time to work on HW5\n",
    "\n",
    "For the rest of the class, you may work through HW5, posted on Canvas and Piazza at the link below:\n",
    "https://piazza.com/tufts/spring2021/uep239/resources"
   ]
  },
  {
   "cell_type": "code",
   "execution_count": null,
   "metadata": {},
   "outputs": [],
   "source": []
  }
 ],
 "metadata": {
  "kernelspec": {
   "display_name": "Python 3",
   "language": "python",
   "name": "python3"
  },
  "language_info": {
   "codemirror_mode": {
    "name": "ipython",
    "version": 3
   },
   "file_extension": ".py",
   "mimetype": "text/x-python",
   "name": "python",
   "nbconvert_exporter": "python",
   "pygments_lexer": "ipython3",
   "version": "3.8.6"
  }
 },
 "nbformat": 4,
 "nbformat_minor": 4
}
