{
 "cells": [
  {
   "cell_type": "code",
   "execution_count": 5,
   "id": "phantom-grade",
   "metadata": {},
   "outputs": [],
   "source": [
    "#loading in relevant packages\n",
    "import pandas as pd \n",
    "import pandas as pd              \n",
    "import matplotlib.pyplot as plt\n",
    "import matplotlib.image as mpimg\n",
    "%matplotlib inline\n",
    "import folium   \n",
    "import seaborn as sns "
   ]
  },
  {
   "cell_type": "code",
   "execution_count": 6,
   "id": "posted-satisfaction",
   "metadata": {},
   "outputs": [
    {
     "name": "stdout",
     "output_type": "stream",
     "text": [
      "Path changed to: C:\\Users\\caree\n"
     ]
    }
   ],
   "source": [
    "#making sure that I'm working with the right file path\n",
    "import os\n",
    "os.chdir(os.path.dirname(r\"C:\\Users\\caree\\uep239-finalproject\"))\n",
    "print(\"Path changed to: \"+os.getcwd())"
   ]
  },
  {
   "cell_type": "code",
   "execution_count": 7,
   "id": "practical-liberal",
   "metadata": {},
   "outputs": [
    {
     "name": "stdout",
     "output_type": "stream",
     "text": [
      "<class 'pandas.core.frame.DataFrame'>\n",
      "RangeIndex: 537 entries, 0 to 536\n",
      "Columns: 458 entries, GEO_ID to S0101_C06_038M\n",
      "dtypes: int64(186), object(272)\n",
      "memory usage: 1.9+ MB\n"
     ]
    }
   ],
   "source": [
    "#loading in csv data (age and sex info for population) do this for each of them\n",
    "age = pd.read_csv(r\"C:\\Users\\caree\\uep239-finalproject\\Data\\ACSST5Y2019.S0101\\ACSST5Y2019.S0101\\ACSST5Y2019.S0101_data_with_overlays.csv\")\n",
    "age_col = age.columns\n",
    "\n",
    "age = pd.read_csv(r\"C:\\Users\\caree\\uep239-finalproject\\Data\\ACSST5Y2019.S0101\\ACSST5Y2019.S0101\\ACSST5Y2019.S0101_data_with_overlays.csv\", names=age_col, skiprows=2)\n",
    "age.info()"
   ]
  },
  {
   "cell_type": "code",
   "execution_count": 8,
   "id": "military-encounter",
   "metadata": {},
   "outputs": [
    {
     "data": {
      "text/html": [
       "<div>\n",
       "<style scoped>\n",
       "    .dataframe tbody tr th:only-of-type {\n",
       "        vertical-align: middle;\n",
       "    }\n",
       "\n",
       "    .dataframe tbody tr th {\n",
       "        vertical-align: top;\n",
       "    }\n",
       "\n",
       "    .dataframe thead th {\n",
       "        text-align: right;\n",
       "    }\n",
       "</style>\n",
       "<table border=\"1\" class=\"dataframe\">\n",
       "  <thead>\n",
       "    <tr style=\"text-align: right;\">\n",
       "      <th></th>\n",
       "      <th>GEO_ID</th>\n",
       "      <th>NAME</th>\n",
       "      <th>S0101_C01_001E</th>\n",
       "      <th>S0101_C01_001M</th>\n",
       "      <th>S0101_C01_002E</th>\n",
       "      <th>S0101_C01_002M</th>\n",
       "      <th>S0101_C01_003E</th>\n",
       "      <th>S0101_C01_003M</th>\n",
       "      <th>S0101_C01_004E</th>\n",
       "      <th>S0101_C01_004M</th>\n",
       "      <th>...</th>\n",
       "      <th>S0101_C06_034E</th>\n",
       "      <th>S0101_C06_034M</th>\n",
       "      <th>S0101_C06_035E</th>\n",
       "      <th>S0101_C06_035M</th>\n",
       "      <th>S0101_C06_036E</th>\n",
       "      <th>S0101_C06_036M</th>\n",
       "      <th>S0101_C06_037E</th>\n",
       "      <th>S0101_C06_037M</th>\n",
       "      <th>S0101_C06_038E</th>\n",
       "      <th>S0101_C06_038M</th>\n",
       "    </tr>\n",
       "  </thead>\n",
       "  <tbody>\n",
       "    <tr>\n",
       "      <th>0</th>\n",
       "      <td>8600000US01001</td>\n",
       "      <td>ZCTA5 01001</td>\n",
       "      <td>17312</td>\n",
       "      <td>735</td>\n",
       "      <td>956</td>\n",
       "      <td>233</td>\n",
       "      <td>863</td>\n",
       "      <td>222</td>\n",
       "      <td>967</td>\n",
       "      <td>274</td>\n",
       "      <td>...</td>\n",
       "      <td>(X)</td>\n",
       "      <td>(X)</td>\n",
       "      <td>(X)</td>\n",
       "      <td>(X)</td>\n",
       "      <td>(X)</td>\n",
       "      <td>(X)</td>\n",
       "      <td>(X)</td>\n",
       "      <td>(X)</td>\n",
       "      <td>(X)</td>\n",
       "      <td>(X)</td>\n",
       "    </tr>\n",
       "    <tr>\n",
       "      <th>1</th>\n",
       "      <td>8600000US01002</td>\n",
       "      <td>ZCTA5 01002</td>\n",
       "      <td>30014</td>\n",
       "      <td>485</td>\n",
       "      <td>872</td>\n",
       "      <td>143</td>\n",
       "      <td>1043</td>\n",
       "      <td>192</td>\n",
       "      <td>1123</td>\n",
       "      <td>215</td>\n",
       "      <td>...</td>\n",
       "      <td>(X)</td>\n",
       "      <td>(X)</td>\n",
       "      <td>(X)</td>\n",
       "      <td>(X)</td>\n",
       "      <td>(X)</td>\n",
       "      <td>(X)</td>\n",
       "      <td>(X)</td>\n",
       "      <td>(X)</td>\n",
       "      <td>(X)</td>\n",
       "      <td>(X)</td>\n",
       "    </tr>\n",
       "    <tr>\n",
       "      <th>2</th>\n",
       "      <td>8600000US01003</td>\n",
       "      <td>ZCTA5 01003</td>\n",
       "      <td>11357</td>\n",
       "      <td>477</td>\n",
       "      <td>0</td>\n",
       "      <td>19</td>\n",
       "      <td>0</td>\n",
       "      <td>19</td>\n",
       "      <td>0</td>\n",
       "      <td>19</td>\n",
       "      <td>...</td>\n",
       "      <td>(X)</td>\n",
       "      <td>(X)</td>\n",
       "      <td>(X)</td>\n",
       "      <td>(X)</td>\n",
       "      <td>(X)</td>\n",
       "      <td>(X)</td>\n",
       "      <td>(X)</td>\n",
       "      <td>(X)</td>\n",
       "      <td>(X)</td>\n",
       "      <td>(X)</td>\n",
       "    </tr>\n",
       "    <tr>\n",
       "      <th>3</th>\n",
       "      <td>8600000US01005</td>\n",
       "      <td>ZCTA5 01005</td>\n",
       "      <td>5128</td>\n",
       "      <td>404</td>\n",
       "      <td>127</td>\n",
       "      <td>72</td>\n",
       "      <td>199</td>\n",
       "      <td>139</td>\n",
       "      <td>408</td>\n",
       "      <td>153</td>\n",
       "      <td>...</td>\n",
       "      <td>(X)</td>\n",
       "      <td>(X)</td>\n",
       "      <td>(X)</td>\n",
       "      <td>(X)</td>\n",
       "      <td>(X)</td>\n",
       "      <td>(X)</td>\n",
       "      <td>(X)</td>\n",
       "      <td>(X)</td>\n",
       "      <td>(X)</td>\n",
       "      <td>(X)</td>\n",
       "    </tr>\n",
       "    <tr>\n",
       "      <th>4</th>\n",
       "      <td>8600000US01007</td>\n",
       "      <td>ZCTA5 01007</td>\n",
       "      <td>15005</td>\n",
       "      <td>20</td>\n",
       "      <td>879</td>\n",
       "      <td>183</td>\n",
       "      <td>828</td>\n",
       "      <td>186</td>\n",
       "      <td>969</td>\n",
       "      <td>193</td>\n",
       "      <td>...</td>\n",
       "      <td>(X)</td>\n",
       "      <td>(X)</td>\n",
       "      <td>(X)</td>\n",
       "      <td>(X)</td>\n",
       "      <td>(X)</td>\n",
       "      <td>(X)</td>\n",
       "      <td>(X)</td>\n",
       "      <td>(X)</td>\n",
       "      <td>(X)</td>\n",
       "      <td>(X)</td>\n",
       "    </tr>\n",
       "  </tbody>\n",
       "</table>\n",
       "<p>5 rows × 458 columns</p>\n",
       "</div>"
      ],
      "text/plain": [
       "           GEO_ID         NAME  S0101_C01_001E  S0101_C01_001M  \\\n",
       "0  8600000US01001  ZCTA5 01001           17312             735   \n",
       "1  8600000US01002  ZCTA5 01002           30014             485   \n",
       "2  8600000US01003  ZCTA5 01003           11357             477   \n",
       "3  8600000US01005  ZCTA5 01005            5128             404   \n",
       "4  8600000US01007  ZCTA5 01007           15005              20   \n",
       "\n",
       "   S0101_C01_002E  S0101_C01_002M  S0101_C01_003E  S0101_C01_003M  \\\n",
       "0             956             233             863             222   \n",
       "1             872             143            1043             192   \n",
       "2               0              19               0              19   \n",
       "3             127              72             199             139   \n",
       "4             879             183             828             186   \n",
       "\n",
       "   S0101_C01_004E  S0101_C01_004M  ...  S0101_C06_034E  S0101_C06_034M  \\\n",
       "0             967             274  ...             (X)             (X)   \n",
       "1            1123             215  ...             (X)             (X)   \n",
       "2               0              19  ...             (X)             (X)   \n",
       "3             408             153  ...             (X)             (X)   \n",
       "4             969             193  ...             (X)             (X)   \n",
       "\n",
       "   S0101_C06_035E  S0101_C06_035M  S0101_C06_036E  S0101_C06_036M  \\\n",
       "0             (X)             (X)             (X)             (X)   \n",
       "1             (X)             (X)             (X)             (X)   \n",
       "2             (X)             (X)             (X)             (X)   \n",
       "3             (X)             (X)             (X)             (X)   \n",
       "4             (X)             (X)             (X)             (X)   \n",
       "\n",
       "   S0101_C06_037E  S0101_C06_037M  S0101_C06_038E  S0101_C06_038M  \n",
       "0             (X)             (X)             (X)             (X)  \n",
       "1             (X)             (X)             (X)             (X)  \n",
       "2             (X)             (X)             (X)             (X)  \n",
       "3             (X)             (X)             (X)             (X)  \n",
       "4             (X)             (X)             (X)             (X)  \n",
       "\n",
       "[5 rows x 458 columns]"
      ]
     },
     "execution_count": 8,
     "metadata": {},
     "output_type": "execute_result"
    }
   ],
   "source": [
    "age.head()"
   ]
  },
  {
   "cell_type": "code",
   "execution_count": 9,
   "id": "growing-publication",
   "metadata": {},
   "outputs": [
    {
     "data": {
      "text/plain": [
       "<bound method NDFrame.head of        ZCTA  Total Population  65-69 Years  70-74 Years  75-79 Years  \\\n",
       "0     01001             17312         1016         1057          786   \n",
       "1     01002             30014         1172         1219          599   \n",
       "2     01003             11357            4            0            0   \n",
       "3     01005              5128          375          167           68   \n",
       "4     01007             15005          880          489          423   \n",
       "..      ...               ...          ...          ...          ...   \n",
       "532   02777             16567         1256          744          468   \n",
       "533   02779              6730          377          370          160   \n",
       "534   02780             50438         2201         2141         1175   \n",
       "535   02790             15793         1284          996          690   \n",
       "536   02791               402           47           69           17   \n",
       "\n",
       "     80-84 Years  85 Years and Older  \n",
       "0            435                 768  \n",
       "1            441                 580  \n",
       "2              0                   0  \n",
       "3             81                 102  \n",
       "4            310                 119  \n",
       "..           ...                 ...  \n",
       "532          292                 567  \n",
       "533            0                  37  \n",
       "534          939                1265  \n",
       "535          416                 451  \n",
       "536            7                  76  \n",
       "\n",
       "[537 rows x 7 columns]>"
      ]
     },
     "execution_count": 9,
     "metadata": {},
     "output_type": "execute_result"
    }
   ],
   "source": [
    "age_pd = pd.DataFrame(age)\n",
    "\n",
    "#Renaming columns to make them more understandable\n",
    "age_pd.rename(columns = {'S0101_C01_015E' : '65-69 Years', 'S0101_C01_001E': 'Total Population', 'S0101_C01_016E': '70-74 Years', 'S0101_C01_017E': '75-79 Years', 'S0101_C01_018E': '80-84 Years', 'S0101_C01_019E' : '85 Years and Older', 'NAME':'ZCTA'}, inplace = True)\n",
    "\n",
    "#Remove ZCTA5 from column values so it will match when they merge\n",
    "age_pd['ZCTA'] = age_pd['ZCTA'].map(lambda x: x.lstrip('ZCTA5'))\n",
    "\n",
    "#choosing out the columns that are going to be analysed\n",
    "age = age_pd[['ZCTA', 'Total Population', '65-69 Years', '70-74 Years', '75-79 Years',  '80-84 Years', '85 Years and Older' ]]\n",
    "age.head"
   ]
  },
  {
   "cell_type": "code",
   "execution_count": 10,
   "id": "fewer-cursor",
   "metadata": {},
   "outputs": [],
   "source": [
    "#do for each if see (x)\n",
    "#import numpy as np \n",
    "#age = age.replace('(X)', np.NaN) # could come back and change to '' if needed"
   ]
  },
  {
   "cell_type": "code",
   "execution_count": 11,
   "id": "immediate-ordinance",
   "metadata": {},
   "outputs": [
    {
     "name": "stdout",
     "output_type": "stream",
     "text": [
      "<class 'pandas.core.frame.DataFrame'>\n"
     ]
    },
    {
     "data": {
      "text/html": [
       "<div>\n",
       "<style scoped>\n",
       "    .dataframe tbody tr th:only-of-type {\n",
       "        vertical-align: middle;\n",
       "    }\n",
       "\n",
       "    .dataframe tbody tr th {\n",
       "        vertical-align: top;\n",
       "    }\n",
       "\n",
       "    .dataframe thead th {\n",
       "        text-align: right;\n",
       "    }\n",
       "</style>\n",
       "<table border=\"1\" class=\"dataframe\">\n",
       "  <thead>\n",
       "    <tr style=\"text-align: right;\">\n",
       "      <th></th>\n",
       "      <th>ZCTA</th>\n",
       "      <th>Total Population</th>\n",
       "      <th>65-69 Years</th>\n",
       "      <th>70-74 Years</th>\n",
       "      <th>75-79 Years</th>\n",
       "      <th>80-84 Years</th>\n",
       "      <th>85 Years and Older</th>\n",
       "    </tr>\n",
       "  </thead>\n",
       "  <tbody>\n",
       "    <tr>\n",
       "      <th>0</th>\n",
       "      <td>01001</td>\n",
       "      <td>17312</td>\n",
       "      <td>1016</td>\n",
       "      <td>1057</td>\n",
       "      <td>786</td>\n",
       "      <td>435</td>\n",
       "      <td>768</td>\n",
       "    </tr>\n",
       "    <tr>\n",
       "      <th>1</th>\n",
       "      <td>01002</td>\n",
       "      <td>30014</td>\n",
       "      <td>1172</td>\n",
       "      <td>1219</td>\n",
       "      <td>599</td>\n",
       "      <td>441</td>\n",
       "      <td>580</td>\n",
       "    </tr>\n",
       "    <tr>\n",
       "      <th>2</th>\n",
       "      <td>01003</td>\n",
       "      <td>11357</td>\n",
       "      <td>4</td>\n",
       "      <td>0</td>\n",
       "      <td>0</td>\n",
       "      <td>0</td>\n",
       "      <td>0</td>\n",
       "    </tr>\n",
       "    <tr>\n",
       "      <th>3</th>\n",
       "      <td>01005</td>\n",
       "      <td>5128</td>\n",
       "      <td>375</td>\n",
       "      <td>167</td>\n",
       "      <td>68</td>\n",
       "      <td>81</td>\n",
       "      <td>102</td>\n",
       "    </tr>\n",
       "    <tr>\n",
       "      <th>4</th>\n",
       "      <td>01007</td>\n",
       "      <td>15005</td>\n",
       "      <td>880</td>\n",
       "      <td>489</td>\n",
       "      <td>423</td>\n",
       "      <td>310</td>\n",
       "      <td>119</td>\n",
       "    </tr>\n",
       "  </tbody>\n",
       "</table>\n",
       "</div>"
      ],
      "text/plain": [
       "     ZCTA  Total Population  65-69 Years  70-74 Years  75-79 Years  \\\n",
       "0   01001             17312         1016         1057          786   \n",
       "1   01002             30014         1172         1219          599   \n",
       "2   01003             11357            4            0            0   \n",
       "3   01005              5128          375          167           68   \n",
       "4   01007             15005          880          489          423   \n",
       "\n",
       "   80-84 Years  85 Years and Older  \n",
       "0          435                 768  \n",
       "1          441                 580  \n",
       "2            0                   0  \n",
       "3           81                 102  \n",
       "4          310                 119  "
      ]
     },
     "execution_count": 11,
     "metadata": {},
     "output_type": "execute_result"
    }
   ],
   "source": [
    "print(type(age))\n",
    "age.head()"
   ]
  },
  {
   "cell_type": "code",
   "execution_count": 12,
   "id": "imported-catholic",
   "metadata": {},
   "outputs": [
    {
     "data": {
      "text/plain": [
       "ZCTA                  object\n",
       "Total Population       int64\n",
       "65-69 Years            int64\n",
       "70-74 Years            int64\n",
       "75-79 Years            int64\n",
       "80-84 Years            int64\n",
       "85 Years and Older     int64\n",
       "dtype: object"
      ]
     },
     "execution_count": 12,
     "metadata": {},
     "output_type": "execute_result"
    }
   ],
   "source": [
    "age.dtypes"
   ]
  },
  {
   "cell_type": "code",
   "execution_count": 13,
   "id": "everyday-numbers",
   "metadata": {},
   "outputs": [],
   "source": [
    "#trying to change age to numeric so I can perform calculations\n",
    "#age = age['Total Population', '65-69 Years', '70-74 Years', '75-79 Years'] = pd.to_numeric(age['Total Population', '65-69 Years', '70-74 Years', '75-79 Years'], errors = 'coerce')\n",
    "#age"
   ]
  },
  {
   "cell_type": "code",
   "execution_count": 14,
   "id": "comprehensive-identifier",
   "metadata": {},
   "outputs": [],
   "source": [
    "#add up all the senior ages and divide by total pop for each zip code\n",
    "#age.count(axis='rows')\n",
    "\n",
    "#age['seniors'] = (age['65-69 Years'].count() + age['70-74 Years'].count() + age['75-79 Years'].count() + age['80-84 Years'].count() + age['85 Years and Older'].count())"
   ]
  },
  {
   "cell_type": "code",
   "execution_count": 15,
   "id": "dimensional-landing",
   "metadata": {},
   "outputs": [
    {
     "name": "stderr",
     "output_type": "stream",
     "text": [
      "<ipython-input-15-3c4ee48d2a96>:1: SettingWithCopyWarning: \n",
      "A value is trying to be set on a copy of a slice from a DataFrame.\n",
      "Try using .loc[row_indexer,col_indexer] = value instead\n",
      "\n",
      "See the caveats in the documentation: https://pandas.pydata.org/pandas-docs/stable/user_guide/indexing.html#returning-a-view-versus-a-copy\n",
      "  age['seniors'] = (age['65-69 Years'] + age['70-74 Years'] + age['75-79 Years'] + age['80-84 Years'] + age['85 Years and Older'])\n"
     ]
    }
   ],
   "source": [
    "age['seniors'] = (age['65-69 Years'] + age['70-74 Years'] + age['75-79 Years'] + age['80-84 Years'] + age['85 Years and Older'])"
   ]
  },
  {
   "cell_type": "code",
   "execution_count": 16,
   "id": "suitable-sight",
   "metadata": {},
   "outputs": [
    {
     "data": {
      "text/plain": [
       "array([ 4062,  4011,     4,   793,  2221,   285,    35,   736,   278,\n",
       "         148,  3342,  6276,   556,   228,  3382,  3528,   104,  2070,\n",
       "         206,    84,  1183,   421,  1261,  1289,   128,   646,   248,\n",
       "        5698,   425,   446,   518,  3977,  1650,  2526,  2154,     0,\n",
       "          31,   303,  1612,   190,   223,   277,  1197,    25,  3422,\n",
       "        2108,   266,   314,  2164,   386,    54,  7293,    47,  4560,\n",
       "         136,    93,   163,  3153,   528,     3,   315,   250,  3390,\n",
       "        1342,  3306,  1141,  2808,  3134,  2330,  2067,   636,  1251,\n",
       "        1021,  9083,  1592,   176,   580,   690,  1466,    39,  2137,\n",
       "         524,   280,   633,  1507,  1860,    65,    67,    57,  3010,\n",
       "         281,   331,   231,   141,   621,   108,   184,    69,   398,\n",
       "        1543,   170,  3740,   316,  2249,   550,    34,   390,   450,\n",
       "         459,   238,    12,   267,   151,    28,   208,    18,   312,\n",
       "         219,   591,  1417,   302,   137,   311,   963,   572,  1111,\n",
       "         156,  5487,   829,   504,  1146,   256,   615,  3181,  1684,\n",
       "         824,   878,  6634,  1553,  1923,  1871,  1061,   796,  1084,\n",
       "        1362,   317,  1532,  3145,   811,  1346,   799,   665,  2005,\n",
       "        1813,   320,  1069,   606,   952,  2602,   464,   713,  1235,\n",
       "         918,    42,  2435,   396,   174,  2375,  1116,   767,   957,\n",
       "         338,  1548,   775,   418,   992,  6232,  2530,   553,   121,\n",
       "        2176,  1527,  1094,  1126,  1994,  3048,  1690,  2599,  1415,\n",
       "        1005,  1680,  1441,  4059,  2679,  4542,  3863,  3137,  1064,\n",
       "         357,  3673,  1943,   295,  6535,  4799,    38,   652,  3591,\n",
       "        2827,  2442,    10,   689,  1014,  3931,  2116,  1018,  2486,\n",
       "        3547,  5655,  1630,   986,  4391,  5550,   725,  1453,  1385,\n",
       "        1165,  3014,  2535,  6587,  5318,  5290,  4894,  4700,  4808,\n",
       "         499,  3851,  2738,  1374,  1210,  1461,   758,  4839,  2711,\n",
       "        8020,  4899,  1655,  3165,  4368,  3028,  1318,  1728,  1918,\n",
       "        2250,  4395,  5551,  1467,  4981,  3160,  3845,  4017,   465,\n",
       "        5657,  2405,  2418,  5694,  2923,   854,  2926,  7023,  1330,\n",
       "         897,  5776,  6947,  3126,  2648,  1273,  4479,  1817,  3794,\n",
       "         697,  1917, 11826,  2437,  1080,  6917,  1131,  1510,   979,\n",
       "        2400,  4372,  1440,  4872,   934,   614,  3150,  4259,  4890,\n",
       "        2508,    41,  2608,  1724,  1789,  1470,  1563,  1934,  5273,\n",
       "        4116,  2982,   152,  5291,  3379,  1683,   718,   642,   675,\n",
       "        1096,  1718,  2260,  3773,  3327,  3722,  1000,  3816,  2493,\n",
       "        7473,  3644,  4115,  3268,  4270,  2178,  4414,  5708,  1024,\n",
       "        5528,  4486,  4935,  3513,  2591,  1633,   299,  2527,  2626,\n",
       "        2136,  7760,  5153,  3785,  7722,  3344,  8550,  9171,  3204,\n",
       "        3317,  4836,  4693,  6318,  4670,  3255,  1977,  3011,  1891,\n",
       "         251,    30,   269,   667,  8330,  4155,  2323,  3387,  2233,\n",
       "        1190,  2417,  1890,  1857,  4682,  1809,  2448,  2007,    43,\n",
       "        2799, 13074,    26,   532,  5410,  2843,  1677,  1349,  1933,\n",
       "        2775,  3776,  3112,  4716,  3052,  2037,  3590,  1988,  4104,\n",
       "        1657,  1324,   233,   444,  1940,  1576,  3521,  1250,  5723,\n",
       "        4152,  3428,  4289,  2138,  2118,  4144,  2542,  1704,  3363,\n",
       "         449,  5220,  1429,   422,   860,   337,   111,  1547,   990,\n",
       "        1060,   540,  1359,    78,   643,  2532,   863,  2173,   783,\n",
       "        1052,   527,  3113,  2697,  1957,   915,   110,  1598,   685,\n",
       "         125,  1880,   684,  2774,   970,    55,  1380,  4106,   402,\n",
       "        2318,  1182,   821,   318,  2265,    85,  2993,   193,   766,\n",
       "          19,   516,   514,   127,  2000,  2745,   715,  7559,   458,\n",
       "         950,  3639,  5590,  4313,  2139,  2790,   603,  3693,  1388,\n",
       "        1604,  7122,  2121,  3975,  1848,  3731,  3265,  3566,  1352,\n",
       "         117,   613,  2733,  2747,  1600,   849,  2787,   944,  7721,\n",
       "        3837,   216], dtype=int64)"
      ]
     },
     "execution_count": 16,
     "metadata": {},
     "output_type": "execute_result"
    }
   ],
   "source": [
    "age['seniors'].unique()"
   ]
  },
  {
   "cell_type": "code",
   "execution_count": 17,
   "id": "architectural-aggregate",
   "metadata": {},
   "outputs": [
    {
     "data": {
      "text/plain": [
       "537"
      ]
     },
     "execution_count": 17,
     "metadata": {},
     "output_type": "execute_result"
    }
   ],
   "source": [
    "age.shape[0]"
   ]
  },
  {
   "cell_type": "code",
   "execution_count": 19,
   "id": "defined-headset",
   "metadata": {},
   "outputs": [
    {
     "name": "stderr",
     "output_type": "stream",
     "text": [
      "<ipython-input-19-8e9121531bb3>:2: SettingWithCopyWarning: \n",
      "A value is trying to be set on a copy of a slice from a DataFrame.\n",
      "Try using .loc[row_indexer,col_indexer] = value instead\n",
      "\n",
      "See the caveats in the documentation: https://pandas.pydata.org/pandas-docs/stable/user_guide/indexing.html#returning-a-view-versus-a-copy\n",
      "  age['percent_seniors'] =  (age.seniors) / (age['Total Population'])\n"
     ]
    }
   ],
   "source": [
    "#divide age by total population  (inclass vector activity)\n",
    "age['percent_seniors'] =  (age.seniors) / (age['Total Population'])\n"
   ]
  },
  {
   "cell_type": "code",
   "execution_count": 20,
   "id": "federal-colleague",
   "metadata": {},
   "outputs": [
    {
     "data": {
      "text/plain": [
       "0      0.234635\n",
       "1      0.133638\n",
       "2      0.000352\n",
       "3      0.154641\n",
       "4      0.148017\n",
       "         ...   \n",
       "532    0.200821\n",
       "533    0.140267\n",
       "534    0.153079\n",
       "535    0.242956\n",
       "536    0.537313\n",
       "Name: percent_seniors, Length: 537, dtype: float64"
      ]
     },
     "execution_count": 20,
     "metadata": {},
     "output_type": "execute_result"
    }
   ],
   "source": [
    "age['percent_seniors']"
   ]
  },
  {
   "cell_type": "code",
   "execution_count": 21,
   "id": "mental-promise",
   "metadata": {},
   "outputs": [
    {
     "name": "stderr",
     "output_type": "stream",
     "text": [
      "C:\\Users\\caree\\miniconda3\\envs\\uep239\\lib\\site-packages\\IPython\\core\\interactiveshell.py:3050: DtypeWarning: Columns (2,4,5,6,7,8,9,10,11,12,13,14,15,16,17,18,19,20,21,22,23,24,25,26,27,28,29,30,31,32,33,34,35,36,37,38,39,40,41,42,43,44,45,46,47,48,49,50,51,52,53,54,55,56,57,58,59,60,61,62,63,64,65,66,67,68,69,70,71,72,73,74,75,76,77,78,79,80,81,82,83,84,85,86,87,88,89,90,91,92,93,94,95,96,97,98,99,100,101,102,103,104,105,106,107,108,109,110,111,112,113,114,115,116,117,118,119,120,121,122,123,124,125,126,127,128,129,130,131,132,133,134,135,136,137,138,139,140,141,142,143,144,145,146,147,148,149,150,151,152,153,154,155,156,157,158,159,160,161,162,163,164,165,166,167,168,169,170,171,172,173,174,175,176,177,178,179,180,181,182,183,184,185,186,187,188,189,190,191,192,193,194,195,196,197,198,199,200,201,202,203,204,205,206,207,208,209,210,211,212,213,214,215,216,217,218,219,220,221,222,223,224,225,226,227,228,229,230,231,232,233,234,235,236,237,238,239,240,241,242,243,244,245,246,247,248,249,250,251,252,253,254,255,256,257,258,259,260,261,262,263,264,265,266,267,268,269,270,271,272,273,274,275,276,277,278,279,280,281,282,283,284,285,286,287,288,289,290,291,292,293,294,295,296,297,298,299,300,301,302,303,304,305,306,307,308,309,310,311,312,313,314,315,316,317,318,319,320,321,322,323,324,325,326,327,328,329,330,331,332,333,334,335,336,337,338,339,340,341,342,343,344,345,346,347,348,349,350,351,352,353,354,355,356,357,358,359,360,361,362,363,364,365,366,367,368,369,370,371,372,373,374,375,376,377,378,379,380,381,382,383,384,385,386,387,388,389,390,391,392,393,394,395,396,397,398,399,400,401,402,403,404,405,406,407,408,409,410,411,412,413,414,415,416,417,418,419,420,421,422,423,424,425,426,427,428,429,430,431,432,433,434,435,436,437,438,439,440,441,442,443,444,445,446,447,448,449,450,451,452,453,454,455,456,457,458,459,460,461,462,463,464,465,466,467,468,469,470,471,472,473,474,475,476,477,478,479,480,481,482,483,484,485,486,487,488,489,490,491,492,493,494,495,496,497,498,499,500,501,502,503,504,505,506,507,508,509,510,511,512,513,514,515,516,517,518,519,520,521,522,523,524,525,526,527,528,529,530,531,532,533,534,535,536,537,538,539,540,541,542,543,544,545,546,547,548,549,550,551,552,553,554,555,556,557,558,559,560,561,562,563,564,565,566,567,568,569,570,571,572,573,574,575,576,577,578,579,580,581,582,583,584,585,586,587,588,589,590,591,592,593,594,595,596,597,598,599,600,601,602,603,604,605,606,607,608,609,610,611,612,613,614,615,616,617,618,619,620,621,622,623,624,625,626,627,628,629,630,631,632,633,634,635,636,637,638,639,640,641,642,643,644,645,646,647,648,649,650,651,652,653,654,655,656,657,658,659,660,661,662,663,664,665,666,667,668,669,670,671,672,673,674,675,676,677,678,679,680,681,682,683,684,685,686,687,688,689,690,691,692,693,694,695,696,697,698,699,700,701,702,703,704,705,706,707,708,709,710,711,712,713,714,715,716,717,718,719,720,721,722,723,724,725,726,727,728,729,730,731,732,733,734,735,736,737,738,739,740,741,742,743,744,745,746,747,748,749,750,751,752,753,754,755,756,757,758,759,760,761,762,763,764,765,766,767,768,769,770,771,772,773,774,775,776,777,778,779,780,781,782,783,784,785,786,787,788,789,790,791,792,793,794,795,796,797,798,799,800,801,802,803,804,805,806,807,808,809,810,811,812,813,814,815,816,817,818,819,820,821,822,823,824,825,826,827,828,829,830,831,832,833,834,835,836,837,838,839,840,841,842,843,844,845,846,847,848,849,850,851,852,853,854,855,856,857,858,859,860,861,862,863,864,865,866,867,868,869,870,871,872,873,874,875,876,877,878,879,880,881,882,883,884,885,886,887,888,889,890,891,892,893,894,895,896,897,898,899,900,901,902,903,904,905,906,907,908,909,910,911,912,913,914,915,916,917,918,919,920,921,922,923,924,925,926,927,928,929,930,931,932,933,934,935,936,937,938,939,940,941,942,943,944,945,946,947,948,949,950,951,952,953,954,955,956,957,958,959,960,961,962,963,964,965,966,967,968,969,970,971,972,973,974,975,976,977,978,979,980,981,982,983,984,985,986,987,988,989,990,991,992,993,994,995,996,997,998,999,1000,1001,1002,1003,1004,1005,1006,1007,1008,1009,1010,1011,1012,1013,1014,1015,1016,1017,1018,1019,1020,1021,1022,1023,1024,1025,1026,1027,1028,1029,1030,1031,1032,1033,1034,1035,1036,1037,1038,1039,1040,1041,1042,1043,1044,1045,1046,1047,1048,1049,1050,1051,1052,1053,1054,1055,1056,1057,1058,1059,1060,1061,1062,1063,1064,1065,1066,1067,1068,1069,1070,1071,1072,1073,1074,1075,1076,1077,1078,1079,1080,1081,1082,1083,1084,1085,1086,1087,1088,1089,1090,1091,1092,1093,1094,1095,1096,1097,1098,1099,1100,1101,1102,1103,1104,1105,1106,1107,1108,1109,1110,1111,1112,1113,1114,1115,1116,1117,1118,1119,1120,1121,1122,1123,1124,1125,1126,1127,1128,1129,1130,1131,1132,1133,1134,1135,1136,1137,1138,1139,1140,1141,1142,1143,1144,1145,1146,1147,1148,1149,1150,1151,1152,1153,1154,1155,1156,1157,1158,1159,1160,1161,1162,1163,1164,1165,1166,1167,1168,1169,1170,1171,1172,1173,1174,1175,1176,1177,1178,1179,1180,1181,1182,1183,1184,1185,1186,1187,1188,1189,1190,1191,1192,1193,1194,1195,1196,1197,1198,1199,1200,1201,1202,1203,1204,1205,1206,1207,1208,1209,1210,1211,1212,1213,1214,1215,1216,1217,1218,1219,1220,1221,1222,1223,1224,1225,1226,1227,1228,1229,1230,1231,1232,1233,1234,1235,1236,1237,1238,1239,1240,1241,1242,1243,1244,1245,1246,1247,1248,1249,1250,1251,1252,1253,1254,1255,1256,1257,1258,1259,1260,1261,1262,1263,1264,1265,1266,1267,1268,1269,1270,1271,1272,1273,1274,1275,1276,1277,1278,1279,1280,1281,1282,1283,1284,1285,1286,1287,1288,1289,1290,1291,1292,1293,1294,1295,1296,1297,1298,1299,1300,1301,1302,1303,1304,1305,1306,1307,1308,1309,1310,1311,1312,1313,1314,1315,1316,1317,1318,1319,1320,1321,1322,1323,1324,1325,1326,1327,1328,1329,1330,1331,1332,1333,1334,1335,1336,1337,1338,1339,1340,1341,1342,1343,1344,1345,1346,1347,1348,1349,1350,1351,1352,1353,1354,1355,1356,1357,1358,1359,1360,1361,1362,1363,1364,1365,1366,1367,1368,1369,1370,1371) have mixed types.Specify dtype option on import or set low_memory=False.\n",
      "  has_raised = await self.run_ast_nodes(code_ast.body, cell_name,\n",
      "C:\\Users\\caree\\miniconda3\\envs\\uep239\\lib\\site-packages\\IPython\\core\\interactiveshell.py:3050: DtypeWarning: Columns (3,504,505,738,739,742,743,778,779,1012,1013,1016,1017,1040,1041,1046,1047,1052,1053,1060,1061,1282,1283,1286,1287,1290,1291,1294,1295,1320,1321,1326,1327) have mixed types.Specify dtype option on import or set low_memory=False.\n",
      "  has_raised = await self.run_ast_nodes(code_ast.body, cell_name,\n"
     ]
    },
    {
     "name": "stdout",
     "output_type": "stream",
     "text": [
      "<class 'pandas.core.frame.DataFrame'>\n",
      "RangeIndex: 538 entries, 0 to 537\n",
      "Columns: 1372 entries, GEO_ID to S0501_C05_137M\n",
      "dtypes: float64(1337), object(35)\n",
      "memory usage: 5.6+ MB\n"
     ]
    }
   ],
   "source": [
    "#loading in csv data (level of educational attainment)\n",
    "foreign = pd.read_csv(r\"C:\\Users\\caree\\uep239-finalproject\\Data\\ACSST5Y2019.S0501_2021-05-12T161803\\ACSST5Y2019.S0501_data_with_overlays_2021-05-12T161735.csv\")\n",
    "for_col = foreign.columns\n",
    "foreign = pd.read_csv(r\"C:\\Users\\caree\\uep239-finalproject\\Data\\ACSST5Y2019.S0501_2021-05-12T161803\\ACSST5Y2019.S0501_data_with_overlays_2021-05-12T161735.csv\",names=for_col, skiprows=2)\n",
    "foreign.info()\n"
   ]
  },
  {
   "cell_type": "code",
   "execution_count": 22,
   "id": "funny-baseline",
   "metadata": {},
   "outputs": [
    {
     "data": {
      "text/html": [
       "<div>\n",
       "<style scoped>\n",
       "    .dataframe tbody tr th:only-of-type {\n",
       "        vertical-align: middle;\n",
       "    }\n",
       "\n",
       "    .dataframe tbody tr th {\n",
       "        vertical-align: top;\n",
       "    }\n",
       "\n",
       "    .dataframe thead th {\n",
       "        text-align: right;\n",
       "    }\n",
       "</style>\n",
       "<table border=\"1\" class=\"dataframe\">\n",
       "  <thead>\n",
       "    <tr style=\"text-align: right;\">\n",
       "      <th></th>\n",
       "      <th>GEO_ID</th>\n",
       "      <th>NAME</th>\n",
       "      <th>S0501_C01_001E</th>\n",
       "      <th>S0501_C01_001M</th>\n",
       "      <th>S0501_C01_002E</th>\n",
       "      <th>S0501_C01_002M</th>\n",
       "      <th>S0501_C01_003E</th>\n",
       "      <th>S0501_C01_003M</th>\n",
       "      <th>S0501_C01_004E</th>\n",
       "      <th>S0501_C01_004M</th>\n",
       "      <th>...</th>\n",
       "      <th>S0501_C05_133E</th>\n",
       "      <th>S0501_C05_133M</th>\n",
       "      <th>S0501_C05_134E</th>\n",
       "      <th>S0501_C05_134M</th>\n",
       "      <th>S0501_C05_135E</th>\n",
       "      <th>S0501_C05_135M</th>\n",
       "      <th>S0501_C05_136E</th>\n",
       "      <th>S0501_C05_136M</th>\n",
       "      <th>S0501_C05_137E</th>\n",
       "      <th>S0501_C05_137M</th>\n",
       "    </tr>\n",
       "  </thead>\n",
       "  <tbody>\n",
       "    <tr>\n",
       "      <th>0</th>\n",
       "      <td>8600000US01001</td>\n",
       "      <td>ZCTA5 01001</td>\n",
       "      <td>NaN</td>\n",
       "      <td>NaN</td>\n",
       "      <td>NaN</td>\n",
       "      <td>NaN</td>\n",
       "      <td>NaN</td>\n",
       "      <td>NaN</td>\n",
       "      <td>NaN</td>\n",
       "      <td>NaN</td>\n",
       "      <td>...</td>\n",
       "      <td>NaN</td>\n",
       "      <td>NaN</td>\n",
       "      <td>NaN</td>\n",
       "      <td>NaN</td>\n",
       "      <td>NaN</td>\n",
       "      <td>NaN</td>\n",
       "      <td>NaN</td>\n",
       "      <td>NaN</td>\n",
       "      <td>NaN</td>\n",
       "      <td>NaN</td>\n",
       "    </tr>\n",
       "    <tr>\n",
       "      <th>1</th>\n",
       "      <td>8600000US01002</td>\n",
       "      <td>ZCTA5 01002</td>\n",
       "      <td>NaN</td>\n",
       "      <td>NaN</td>\n",
       "      <td>NaN</td>\n",
       "      <td>NaN</td>\n",
       "      <td>NaN</td>\n",
       "      <td>NaN</td>\n",
       "      <td>NaN</td>\n",
       "      <td>NaN</td>\n",
       "      <td>...</td>\n",
       "      <td>NaN</td>\n",
       "      <td>NaN</td>\n",
       "      <td>NaN</td>\n",
       "      <td>NaN</td>\n",
       "      <td>NaN</td>\n",
       "      <td>NaN</td>\n",
       "      <td>NaN</td>\n",
       "      <td>NaN</td>\n",
       "      <td>NaN</td>\n",
       "      <td>NaN</td>\n",
       "    </tr>\n",
       "    <tr>\n",
       "      <th>2</th>\n",
       "      <td>8600000US01003</td>\n",
       "      <td>ZCTA5 01003</td>\n",
       "      <td>NaN</td>\n",
       "      <td>NaN</td>\n",
       "      <td>NaN</td>\n",
       "      <td>NaN</td>\n",
       "      <td>NaN</td>\n",
       "      <td>NaN</td>\n",
       "      <td>NaN</td>\n",
       "      <td>NaN</td>\n",
       "      <td>...</td>\n",
       "      <td>NaN</td>\n",
       "      <td>NaN</td>\n",
       "      <td>NaN</td>\n",
       "      <td>NaN</td>\n",
       "      <td>NaN</td>\n",
       "      <td>NaN</td>\n",
       "      <td>NaN</td>\n",
       "      <td>NaN</td>\n",
       "      <td>NaN</td>\n",
       "      <td>NaN</td>\n",
       "    </tr>\n",
       "    <tr>\n",
       "      <th>3</th>\n",
       "      <td>8600000US01005</td>\n",
       "      <td>ZCTA5 01005</td>\n",
       "      <td>NaN</td>\n",
       "      <td>NaN</td>\n",
       "      <td>NaN</td>\n",
       "      <td>NaN</td>\n",
       "      <td>NaN</td>\n",
       "      <td>NaN</td>\n",
       "      <td>NaN</td>\n",
       "      <td>NaN</td>\n",
       "      <td>...</td>\n",
       "      <td>NaN</td>\n",
       "      <td>NaN</td>\n",
       "      <td>NaN</td>\n",
       "      <td>NaN</td>\n",
       "      <td>NaN</td>\n",
       "      <td>NaN</td>\n",
       "      <td>NaN</td>\n",
       "      <td>NaN</td>\n",
       "      <td>NaN</td>\n",
       "      <td>NaN</td>\n",
       "    </tr>\n",
       "    <tr>\n",
       "      <th>4</th>\n",
       "      <td>8600000US01007</td>\n",
       "      <td>ZCTA5 01007</td>\n",
       "      <td>NaN</td>\n",
       "      <td>NaN</td>\n",
       "      <td>NaN</td>\n",
       "      <td>NaN</td>\n",
       "      <td>NaN</td>\n",
       "      <td>NaN</td>\n",
       "      <td>NaN</td>\n",
       "      <td>NaN</td>\n",
       "      <td>...</td>\n",
       "      <td>NaN</td>\n",
       "      <td>NaN</td>\n",
       "      <td>NaN</td>\n",
       "      <td>NaN</td>\n",
       "      <td>NaN</td>\n",
       "      <td>NaN</td>\n",
       "      <td>NaN</td>\n",
       "      <td>NaN</td>\n",
       "      <td>NaN</td>\n",
       "      <td>NaN</td>\n",
       "    </tr>\n",
       "  </tbody>\n",
       "</table>\n",
       "<p>5 rows × 1372 columns</p>\n",
       "</div>"
      ],
      "text/plain": [
       "           GEO_ID         NAME  S0501_C01_001E S0501_C01_001M  S0501_C01_002E  \\\n",
       "0  8600000US01001  ZCTA5 01001             NaN            NaN             NaN   \n",
       "1  8600000US01002  ZCTA5 01002             NaN            NaN             NaN   \n",
       "2  8600000US01003  ZCTA5 01003             NaN            NaN             NaN   \n",
       "3  8600000US01005  ZCTA5 01005             NaN            NaN             NaN   \n",
       "4  8600000US01007  ZCTA5 01007             NaN            NaN             NaN   \n",
       "\n",
       "   S0501_C01_002M  S0501_C01_003E  S0501_C01_003M  S0501_C01_004E  \\\n",
       "0             NaN             NaN             NaN             NaN   \n",
       "1             NaN             NaN             NaN             NaN   \n",
       "2             NaN             NaN             NaN             NaN   \n",
       "3             NaN             NaN             NaN             NaN   \n",
       "4             NaN             NaN             NaN             NaN   \n",
       "\n",
       "   S0501_C01_004M  ...  S0501_C05_133E  S0501_C05_133M  S0501_C05_134E  \\\n",
       "0             NaN  ...             NaN             NaN             NaN   \n",
       "1             NaN  ...             NaN             NaN             NaN   \n",
       "2             NaN  ...             NaN             NaN             NaN   \n",
       "3             NaN  ...             NaN             NaN             NaN   \n",
       "4             NaN  ...             NaN             NaN             NaN   \n",
       "\n",
       "   S0501_C05_134M  S0501_C05_135E  S0501_C05_135M  S0501_C05_136E  \\\n",
       "0             NaN             NaN             NaN             NaN   \n",
       "1             NaN             NaN             NaN             NaN   \n",
       "2             NaN             NaN             NaN             NaN   \n",
       "3             NaN             NaN             NaN             NaN   \n",
       "4             NaN             NaN             NaN             NaN   \n",
       "\n",
       "   S0501_C05_136M  S0501_C05_137E  S0501_C05_137M  \n",
       "0             NaN             NaN             NaN  \n",
       "1             NaN             NaN             NaN  \n",
       "2             NaN             NaN             NaN  \n",
       "3             NaN             NaN             NaN  \n",
       "4             NaN             NaN             NaN  \n",
       "\n",
       "[5 rows x 1372 columns]"
      ]
     },
     "execution_count": 22,
     "metadata": {},
     "output_type": "execute_result"
    }
   ],
   "source": [
    "foreign.head()"
   ]
  },
  {
   "cell_type": "code",
   "execution_count": 23,
   "id": "southern-spyware",
   "metadata": {},
   "outputs": [
    {
     "data": {
      "text/plain": [
       "<bound method NDFrame.head of               ZCTA  Total Population  Foreign-Born Total Pop\n",
       "0            01001               NaN                     NaN\n",
       "1            01002               NaN                     NaN\n",
       "2            01003               NaN                     NaN\n",
       "3            01005               NaN                     NaN\n",
       "4            01007               NaN                     NaN\n",
       "..             ...               ...                     ...\n",
       "533          02779               NaN                     NaN\n",
       "534          02780               NaN                     NaN\n",
       "535          02790               NaN                     NaN\n",
       "536          02791               NaN                     NaN\n",
       "537  Massachusetts         6850553.0               1148909.0\n",
       "\n",
       "[538 rows x 3 columns]>"
      ]
     },
     "execution_count": 23,
     "metadata": {},
     "output_type": "execute_result"
    }
   ],
   "source": [
    "for_pd = pd.DataFrame(foreign)\n",
    "\n",
    "#Renaming columns to make them more understandable\n",
    "for_pd.rename(columns = {'S0501_C03_001E' : 'Foreign-Born Total Pop', 'S0501_C01_001E': 'Total Population', 'NAME':'ZCTA'}, inplace = True)\n",
    "\n",
    "#Remove ZCTA5 from column values so it will match when they merge\n",
    "for_pd['ZCTA'] = for_pd['ZCTA'].map(lambda x: x.lstrip('ZCTA5'))\n",
    "\n",
    "#choosing out the columns that are going to be analysed\n",
    "foreign = for_pd[['ZCTA', 'Total Population','Foreign-Born Total Pop']]\n",
    "foreign.head"
   ]
  },
  {
   "cell_type": "code",
   "execution_count": 24,
   "id": "addressed-crawford",
   "metadata": {},
   "outputs": [
    {
     "name": "stdout",
     "output_type": "stream",
     "text": [
      "<class 'pandas.core.frame.DataFrame'>\n"
     ]
    },
    {
     "data": {
      "text/html": [
       "<div>\n",
       "<style scoped>\n",
       "    .dataframe tbody tr th:only-of-type {\n",
       "        vertical-align: middle;\n",
       "    }\n",
       "\n",
       "    .dataframe tbody tr th {\n",
       "        vertical-align: top;\n",
       "    }\n",
       "\n",
       "    .dataframe thead th {\n",
       "        text-align: right;\n",
       "    }\n",
       "</style>\n",
       "<table border=\"1\" class=\"dataframe\">\n",
       "  <thead>\n",
       "    <tr style=\"text-align: right;\">\n",
       "      <th></th>\n",
       "      <th>ZCTA</th>\n",
       "      <th>Total Population</th>\n",
       "      <th>Foreign-Born Total Pop</th>\n",
       "    </tr>\n",
       "  </thead>\n",
       "  <tbody>\n",
       "    <tr>\n",
       "      <th>0</th>\n",
       "      <td>01001</td>\n",
       "      <td>NaN</td>\n",
       "      <td>NaN</td>\n",
       "    </tr>\n",
       "    <tr>\n",
       "      <th>1</th>\n",
       "      <td>01002</td>\n",
       "      <td>NaN</td>\n",
       "      <td>NaN</td>\n",
       "    </tr>\n",
       "    <tr>\n",
       "      <th>2</th>\n",
       "      <td>01003</td>\n",
       "      <td>NaN</td>\n",
       "      <td>NaN</td>\n",
       "    </tr>\n",
       "    <tr>\n",
       "      <th>3</th>\n",
       "      <td>01005</td>\n",
       "      <td>NaN</td>\n",
       "      <td>NaN</td>\n",
       "    </tr>\n",
       "    <tr>\n",
       "      <th>4</th>\n",
       "      <td>01007</td>\n",
       "      <td>NaN</td>\n",
       "      <td>NaN</td>\n",
       "    </tr>\n",
       "  </tbody>\n",
       "</table>\n",
       "</div>"
      ],
      "text/plain": [
       "     ZCTA  Total Population  Foreign-Born Total Pop\n",
       "0   01001               NaN                     NaN\n",
       "1   01002               NaN                     NaN\n",
       "2   01003               NaN                     NaN\n",
       "3   01005               NaN                     NaN\n",
       "4   01007               NaN                     NaN"
      ]
     },
     "execution_count": 24,
     "metadata": {},
     "output_type": "execute_result"
    }
   ],
   "source": [
    "print(type(foreign))\n",
    "foreign.head()"
   ]
  },
  {
   "cell_type": "code",
   "execution_count": 25,
   "id": "further-worry",
   "metadata": {},
   "outputs": [
    {
     "data": {
      "text/plain": [
       "ZCTA                       object\n",
       "Total Population          float64\n",
       "Foreign-Born Total Pop    float64\n",
       "dtype: object"
      ]
     },
     "execution_count": 25,
     "metadata": {},
     "output_type": "execute_result"
    }
   ],
   "source": [
    "foreign.dtypes"
   ]
  },
  {
   "cell_type": "code",
   "execution_count": 26,
   "id": "timely-input",
   "metadata": {},
   "outputs": [
    {
     "name": "stderr",
     "output_type": "stream",
     "text": [
      "<ipython-input-26-d1e70b525e5f>:2: SettingWithCopyWarning: \n",
      "A value is trying to be set on a copy of a slice from a DataFrame.\n",
      "Try using .loc[row_indexer,col_indexer] = value instead\n",
      "\n",
      "See the caveats in the documentation: https://pandas.pydata.org/pandas-docs/stable/user_guide/indexing.html#returning-a-view-versus-a-copy\n",
      "  foreign['percent_foreign'] =  (foreign['Foreign-Born Total Pop']) / (foreign['Total Population'])\n"
     ]
    }
   ],
   "source": [
    "#divide age by total population  (inclass vector activity)\n",
    "foreign['percent_foreign'] =  (foreign['Foreign-Born Total Pop']) / (foreign['Total Population'])"
   ]
  },
  {
   "cell_type": "code",
   "execution_count": 27,
   "id": "greenhouse-earth",
   "metadata": {},
   "outputs": [
    {
     "data": {
      "text/plain": [
       "0          NaN\n",
       "1          NaN\n",
       "2          NaN\n",
       "3          NaN\n",
       "4          NaN\n",
       "        ...   \n",
       "533        NaN\n",
       "534        NaN\n",
       "535        NaN\n",
       "536        NaN\n",
       "537    0.16771\n",
       "Name: percent_foreign, Length: 538, dtype: float64"
      ]
     },
     "execution_count": 27,
     "metadata": {},
     "output_type": "execute_result"
    }
   ],
   "source": [
    "foreign['percent_foreign']"
   ]
  },
  {
   "cell_type": "code",
   "execution_count": 28,
   "id": "bound-procurement",
   "metadata": {},
   "outputs": [
    {
     "data": {
      "text/plain": [
       "array([       nan, 0.23785256, 0.24529339, 0.36272268, 0.27569458,\n",
       "       0.20213583, 0.43352847, 0.33109351, 0.22302216, 0.3663234 ,\n",
       "       0.24628504, 0.24812524, 0.40369856, 0.37819365, 0.15472752,\n",
       "       0.26050537, 0.25634481, 0.34261746, 0.37565857, 0.2879486 ,\n",
       "       0.38330416, 0.34199865, 0.47447263, 0.21441017, 0.28275081,\n",
       "       0.36730798, 0.26720206, 0.32598756, 0.24444214, 0.29662921,\n",
       "       0.35236955, 0.42642332, 0.43078624, 0.45354276, 0.38982514,\n",
       "       0.21670712, 0.29989562, 0.37162435, 0.35406812, 0.21930752,\n",
       "       0.35319726, 0.30429978, 0.29367904, 0.21555268, 0.16514015,\n",
       "       0.1677104 ])"
      ]
     },
     "execution_count": 28,
     "metadata": {},
     "output_type": "execute_result"
    }
   ],
   "source": [
    "foreign['percent_foreign'].unique()"
   ]
  },
  {
   "cell_type": "code",
   "execution_count": 29,
   "id": "reasonable-stage",
   "metadata": {},
   "outputs": [
    {
     "name": "stdout",
     "output_type": "stream",
     "text": [
      "<class 'pandas.core.frame.DataFrame'>\n",
      "RangeIndex: 538 entries, 0 to 537\n",
      "Data columns (total 42 columns):\n",
      " #   Column          Non-Null Count  Dtype \n",
      "---  ------          --------------  ----- \n",
      " 0   GEO_ID          538 non-null    object\n",
      " 1   NAME            538 non-null    object\n",
      " 2   S1602_C01_001E  538 non-null    int64 \n",
      " 3   S1602_C01_001M  538 non-null    int64 \n",
      " 4   S1602_C01_002E  538 non-null    int64 \n",
      " 5   S1602_C01_002M  538 non-null    int64 \n",
      " 6   S1602_C01_003E  538 non-null    int64 \n",
      " 7   S1602_C01_003M  538 non-null    int64 \n",
      " 8   S1602_C01_004E  538 non-null    int64 \n",
      " 9   S1602_C01_004M  538 non-null    int64 \n",
      " 10  S1602_C01_005E  538 non-null    int64 \n",
      " 11  S1602_C01_005M  538 non-null    int64 \n",
      " 12  S1602_C02_001E  538 non-null    object\n",
      " 13  S1602_C02_001M  538 non-null    object\n",
      " 14  S1602_C02_002E  538 non-null    object\n",
      " 15  S1602_C02_002M  538 non-null    object\n",
      " 16  S1602_C02_003E  538 non-null    object\n",
      " 17  S1602_C02_003M  538 non-null    object\n",
      " 18  S1602_C02_004E  538 non-null    object\n",
      " 19  S1602_C02_004M  538 non-null    object\n",
      " 20  S1602_C02_005E  538 non-null    object\n",
      " 21  S1602_C02_005M  538 non-null    object\n",
      " 22  S1602_C03_001E  538 non-null    int64 \n",
      " 23  S1602_C03_001M  538 non-null    int64 \n",
      " 24  S1602_C03_002E  538 non-null    int64 \n",
      " 25  S1602_C03_002M  538 non-null    int64 \n",
      " 26  S1602_C03_003E  538 non-null    int64 \n",
      " 27  S1602_C03_003M  538 non-null    int64 \n",
      " 28  S1602_C03_004E  538 non-null    int64 \n",
      " 29  S1602_C03_004M  538 non-null    int64 \n",
      " 30  S1602_C03_005E  538 non-null    int64 \n",
      " 31  S1602_C03_005M  538 non-null    int64 \n",
      " 32  S1602_C04_001E  538 non-null    object\n",
      " 33  S1602_C04_001M  538 non-null    object\n",
      " 34  S1602_C04_002E  538 non-null    object\n",
      " 35  S1602_C04_002M  538 non-null    object\n",
      " 36  S1602_C04_003E  538 non-null    object\n",
      " 37  S1602_C04_003M  538 non-null    object\n",
      " 38  S1602_C04_004E  538 non-null    object\n",
      " 39  S1602_C04_004M  538 non-null    object\n",
      " 40  S1602_C04_005E  538 non-null    object\n",
      " 41  S1602_C04_005M  538 non-null    object\n",
      "dtypes: int64(20), object(22)\n",
      "memory usage: 176.7+ KB\n"
     ]
    }
   ],
   "source": [
    "#loading in csv data(households that speak limited english)\n",
    "limited_eng = pd.read_csv(r\"C:\\Users\\caree\\uep239-finalproject\\Data\\ACSST5Y2019.S1602_2021-05-12T065118\\ACSST5Y2019.S1602_data_with_overlays_2021-05-12T065115.csv\")\n",
    "lim_eng_col = limited_eng.columns\n",
    "limited_eng = pd.read_csv(r\"C:\\Users\\caree\\uep239-finalproject\\Data\\ACSST5Y2019.S1602_2021-05-12T065118\\ACSST5Y2019.S1602_data_with_overlays_2021-05-12T065115.csv\",names=lim_eng_col, skiprows=2)\n",
    "limited_eng.info() "
   ]
  },
  {
   "cell_type": "code",
   "execution_count": 30,
   "id": "naked-craps",
   "metadata": {},
   "outputs": [
    {
     "data": {
      "text/html": [
       "<div>\n",
       "<style scoped>\n",
       "    .dataframe tbody tr th:only-of-type {\n",
       "        vertical-align: middle;\n",
       "    }\n",
       "\n",
       "    .dataframe tbody tr th {\n",
       "        vertical-align: top;\n",
       "    }\n",
       "\n",
       "    .dataframe thead th {\n",
       "        text-align: right;\n",
       "    }\n",
       "</style>\n",
       "<table border=\"1\" class=\"dataframe\">\n",
       "  <thead>\n",
       "    <tr style=\"text-align: right;\">\n",
       "      <th></th>\n",
       "      <th>GEO_ID</th>\n",
       "      <th>NAME</th>\n",
       "      <th>S1602_C01_001E</th>\n",
       "      <th>S1602_C01_001M</th>\n",
       "      <th>S1602_C01_002E</th>\n",
       "      <th>S1602_C01_002M</th>\n",
       "      <th>S1602_C01_003E</th>\n",
       "      <th>S1602_C01_003M</th>\n",
       "      <th>S1602_C01_004E</th>\n",
       "      <th>S1602_C01_004M</th>\n",
       "      <th>...</th>\n",
       "      <th>S1602_C04_001E</th>\n",
       "      <th>S1602_C04_001M</th>\n",
       "      <th>S1602_C04_002E</th>\n",
       "      <th>S1602_C04_002M</th>\n",
       "      <th>S1602_C04_003E</th>\n",
       "      <th>S1602_C04_003M</th>\n",
       "      <th>S1602_C04_004E</th>\n",
       "      <th>S1602_C04_004M</th>\n",
       "      <th>S1602_C04_005E</th>\n",
       "      <th>S1602_C04_005M</th>\n",
       "    </tr>\n",
       "  </thead>\n",
       "  <tbody>\n",
       "    <tr>\n",
       "      <th>0</th>\n",
       "      <td>8600000US01001</td>\n",
       "      <td>ZCTA5 01001</td>\n",
       "      <td>7413</td>\n",
       "      <td>322</td>\n",
       "      <td>200</td>\n",
       "      <td>105</td>\n",
       "      <td>866</td>\n",
       "      <td>216</td>\n",
       "      <td>155</td>\n",
       "      <td>89</td>\n",
       "      <td>...</td>\n",
       "      <td>2.4</td>\n",
       "      <td>1.5</td>\n",
       "      <td>22.0</td>\n",
       "      <td>19.2</td>\n",
       "      <td>10.9</td>\n",
       "      <td>9.4</td>\n",
       "      <td>25.8</td>\n",
       "      <td>30.2</td>\n",
       "      <td>0.0</td>\n",
       "      <td>40.1</td>\n",
       "    </tr>\n",
       "    <tr>\n",
       "      <th>1</th>\n",
       "      <td>8600000US01002</td>\n",
       "      <td>ZCTA5 01002</td>\n",
       "      <td>9798</td>\n",
       "      <td>451</td>\n",
       "      <td>390</td>\n",
       "      <td>118</td>\n",
       "      <td>962</td>\n",
       "      <td>228</td>\n",
       "      <td>710</td>\n",
       "      <td>189</td>\n",
       "      <td>...</td>\n",
       "      <td>2.7</td>\n",
       "      <td>1.1</td>\n",
       "      <td>10.8</td>\n",
       "      <td>9.4</td>\n",
       "      <td>5.0</td>\n",
       "      <td>5.4</td>\n",
       "      <td>23.2</td>\n",
       "      <td>10.8</td>\n",
       "      <td>3.8</td>\n",
       "      <td>7.5</td>\n",
       "    </tr>\n",
       "    <tr>\n",
       "      <th>2</th>\n",
       "      <td>8600000US01003</td>\n",
       "      <td>ZCTA5 01003</td>\n",
       "      <td>42</td>\n",
       "      <td>42</td>\n",
       "      <td>0</td>\n",
       "      <td>19</td>\n",
       "      <td>4</td>\n",
       "      <td>7</td>\n",
       "      <td>14</td>\n",
       "      <td>20</td>\n",
       "      <td>...</td>\n",
       "      <td>0.0</td>\n",
       "      <td>47.5</td>\n",
       "      <td>-</td>\n",
       "      <td>**</td>\n",
       "      <td>0.0</td>\n",
       "      <td>100.0</td>\n",
       "      <td>0.0</td>\n",
       "      <td>82.3</td>\n",
       "      <td>-</td>\n",
       "      <td>**</td>\n",
       "    </tr>\n",
       "    <tr>\n",
       "      <th>3</th>\n",
       "      <td>8600000US01005</td>\n",
       "      <td>ZCTA5 01005</td>\n",
       "      <td>1944</td>\n",
       "      <td>232</td>\n",
       "      <td>19</td>\n",
       "      <td>30</td>\n",
       "      <td>47</td>\n",
       "      <td>47</td>\n",
       "      <td>25</td>\n",
       "      <td>42</td>\n",
       "      <td>...</td>\n",
       "      <td>0.0</td>\n",
       "      <td>1.8</td>\n",
       "      <td>0.0</td>\n",
       "      <td>70.6</td>\n",
       "      <td>0.0</td>\n",
       "      <td>44.9</td>\n",
       "      <td>0.0</td>\n",
       "      <td>61.6</td>\n",
       "      <td>-</td>\n",
       "      <td>**</td>\n",
       "    </tr>\n",
       "    <tr>\n",
       "      <th>4</th>\n",
       "      <td>8600000US01007</td>\n",
       "      <td>ZCTA5 01007</td>\n",
       "      <td>5563</td>\n",
       "      <td>196</td>\n",
       "      <td>103</td>\n",
       "      <td>66</td>\n",
       "      <td>279</td>\n",
       "      <td>114</td>\n",
       "      <td>181</td>\n",
       "      <td>110</td>\n",
       "      <td>...</td>\n",
       "      <td>1.9</td>\n",
       "      <td>1.7</td>\n",
       "      <td>15.5</td>\n",
       "      <td>25.7</td>\n",
       "      <td>6.5</td>\n",
       "      <td>10.0</td>\n",
       "      <td>38.1</td>\n",
       "      <td>34.8</td>\n",
       "      <td>-</td>\n",
       "      <td>**</td>\n",
       "    </tr>\n",
       "  </tbody>\n",
       "</table>\n",
       "<p>5 rows × 42 columns</p>\n",
       "</div>"
      ],
      "text/plain": [
       "           GEO_ID         NAME  S1602_C01_001E  S1602_C01_001M  \\\n",
       "0  8600000US01001  ZCTA5 01001            7413             322   \n",
       "1  8600000US01002  ZCTA5 01002            9798             451   \n",
       "2  8600000US01003  ZCTA5 01003              42              42   \n",
       "3  8600000US01005  ZCTA5 01005            1944             232   \n",
       "4  8600000US01007  ZCTA5 01007            5563             196   \n",
       "\n",
       "   S1602_C01_002E  S1602_C01_002M  S1602_C01_003E  S1602_C01_003M  \\\n",
       "0             200             105             866             216   \n",
       "1             390             118             962             228   \n",
       "2               0              19               4               7   \n",
       "3              19              30              47              47   \n",
       "4             103              66             279             114   \n",
       "\n",
       "   S1602_C01_004E  S1602_C01_004M  ...  S1602_C04_001E  S1602_C04_001M  \\\n",
       "0             155              89  ...             2.4             1.5   \n",
       "1             710             189  ...             2.7             1.1   \n",
       "2              14              20  ...             0.0            47.5   \n",
       "3              25              42  ...             0.0             1.8   \n",
       "4             181             110  ...             1.9             1.7   \n",
       "\n",
       "  S1602_C04_002E S1602_C04_002M S1602_C04_003E S1602_C04_003M S1602_C04_004E  \\\n",
       "0           22.0           19.2           10.9            9.4           25.8   \n",
       "1           10.8            9.4            5.0            5.4           23.2   \n",
       "2              -             **            0.0          100.0            0.0   \n",
       "3            0.0           70.6            0.0           44.9            0.0   \n",
       "4           15.5           25.7            6.5           10.0           38.1   \n",
       "\n",
       "  S1602_C04_004M S1602_C04_005E S1602_C04_005M  \n",
       "0           30.2            0.0           40.1  \n",
       "1           10.8            3.8            7.5  \n",
       "2           82.3              -             **  \n",
       "3           61.6              -             **  \n",
       "4           34.8              -             **  \n",
       "\n",
       "[5 rows x 42 columns]"
      ]
     },
     "execution_count": 30,
     "metadata": {},
     "output_type": "execute_result"
    }
   ],
   "source": [
    "limited_eng.head()"
   ]
  },
  {
   "cell_type": "code",
   "execution_count": 31,
   "id": "hollywood-exception",
   "metadata": {},
   "outputs": [
    {
     "data": {
      "text/plain": [
       "<bound method NDFrame.head of               ZCTA  Total Households  Limited English-Speaking\n",
       "0            01001              7413                       178\n",
       "1            01002              9798                       266\n",
       "2            01003                42                         0\n",
       "3            01005              1944                         0\n",
       "4            01007              5563                       103\n",
       "..             ...               ...                       ...\n",
       "533          02779              2384                        17\n",
       "534          02780             19910                      1256\n",
       "535          02790              6388                        97\n",
       "536          02791               234                         0\n",
       "537  Massachusetts           2617497                    152845\n",
       "\n",
       "[538 rows x 3 columns]>"
      ]
     },
     "execution_count": 31,
     "metadata": {},
     "output_type": "execute_result"
    }
   ],
   "source": [
    "limited_pd = pd.DataFrame(limited_eng)\n",
    "\n",
    "#Renaming columns to make them more understandable\n",
    "limited_pd.rename(columns = {'S1602_C01_001E' : 'Total Households', 'S1602_C03_001E': 'Limited English-Speaking', 'NAME':'ZCTA'}, inplace = True)\n",
    "\n",
    "#Remove ZCTA5 from column values so it will match when they merge\n",
    "limited_pd['ZCTA'] = limited_pd['ZCTA'].map(lambda x: x.lstrip('ZCTA5'))\n",
    "\n",
    "#choosing out the columns that are going to be analysed\n",
    "limited_eng = limited_pd[['ZCTA', 'Total Households','Limited English-Speaking']]\n",
    "limited_eng.head"
   ]
  },
  {
   "cell_type": "code",
   "execution_count": 32,
   "id": "beneficial-gross",
   "metadata": {},
   "outputs": [
    {
     "name": "stdout",
     "output_type": "stream",
     "text": [
      "<class 'pandas.core.frame.DataFrame'>\n"
     ]
    }
   ],
   "source": [
    "print(type(limited_eng))"
   ]
  },
  {
   "cell_type": "code",
   "execution_count": 33,
   "id": "liked-article",
   "metadata": {},
   "outputs": [
    {
     "data": {
      "text/plain": [
       "ZCTA                        object\n",
       "Total Households             int64\n",
       "Limited English-Speaking     int64\n",
       "dtype: object"
      ]
     },
     "execution_count": 33,
     "metadata": {},
     "output_type": "execute_result"
    }
   ],
   "source": [
    "limited_eng.dtypes"
   ]
  },
  {
   "cell_type": "code",
   "execution_count": 34,
   "id": "found-voltage",
   "metadata": {},
   "outputs": [
    {
     "name": "stderr",
     "output_type": "stream",
     "text": [
      "<ipython-input-34-8808438e5002>:2: SettingWithCopyWarning: \n",
      "A value is trying to be set on a copy of a slice from a DataFrame.\n",
      "Try using .loc[row_indexer,col_indexer] = value instead\n",
      "\n",
      "See the caveats in the documentation: https://pandas.pydata.org/pandas-docs/stable/user_guide/indexing.html#returning-a-view-versus-a-copy\n",
      "  limited_eng['percent_limited'] = (limited_eng['Limited English-Speaking']) / (limited_eng['Total Households'])\n"
     ]
    }
   ],
   "source": [
    "#divide age by total population  (inclass vector activity)\n",
    "limited_eng['percent_limited'] = (limited_eng['Limited English-Speaking']) / (limited_eng['Total Households'])"
   ]
  },
  {
   "cell_type": "code",
   "execution_count": 44,
   "id": "attended-cycle",
   "metadata": {},
   "outputs": [
    {
     "data": {
      "text/plain": [
       "0      0.024012\n",
       "1      0.027148\n",
       "2      0.000000\n",
       "3      0.000000\n",
       "4      0.018515\n",
       "         ...   \n",
       "533    0.007131\n",
       "534    0.063084\n",
       "535    0.015185\n",
       "536    0.000000\n",
       "537    0.058394\n",
       "Name: percent_limited, Length: 538, dtype: float64"
      ]
     },
     "execution_count": 44,
     "metadata": {},
     "output_type": "execute_result"
    }
   ],
   "source": [
    "limited_eng['percent_limited']"
   ]
  },
  {
   "cell_type": "code",
   "execution_count": 35,
   "id": "waiting-picture",
   "metadata": {},
   "outputs": [
    {
     "name": "stdout",
     "output_type": "stream",
     "text": [
      "<class 'pandas.core.frame.DataFrame'>\n",
      "RangeIndex: 537 entries, 0 to 536\n",
      "Columns: 554 entries, GEO_ID to S2503_C06_046M\n",
      "dtypes: int64(266), object(288)\n",
      "memory usage: 2.3+ MB\n"
     ]
    }
   ],
   "source": [
    "#loading in csv data (financial charachteristics of population)\n",
    "financial = pd.read_csv(r\"C:\\Users\\caree\\uep239-finalproject\\Data\\ACSST5Y2019.S2503\\ACSST5Y2019.S2503\\ACSST5Y2019.S2503_data_with_overlays.csv\")\n",
    "fin_col = financial.columns\n",
    "financial = pd.read_csv(r\"C:\\Users\\caree\\uep239-finalproject\\Data\\ACSST5Y2019.S2503\\ACSST5Y2019.S2503\\ACSST5Y2019.S2503_data_with_overlays.csv\",names=fin_col, skiprows=2)\n",
    "financial.info()"
   ]
  },
  {
   "cell_type": "code",
   "execution_count": 36,
   "id": "packed-brother",
   "metadata": {},
   "outputs": [
    {
     "data": {
      "text/html": [
       "<div>\n",
       "<style scoped>\n",
       "    .dataframe tbody tr th:only-of-type {\n",
       "        vertical-align: middle;\n",
       "    }\n",
       "\n",
       "    .dataframe tbody tr th {\n",
       "        vertical-align: top;\n",
       "    }\n",
       "\n",
       "    .dataframe thead th {\n",
       "        text-align: right;\n",
       "    }\n",
       "</style>\n",
       "<table border=\"1\" class=\"dataframe\">\n",
       "  <thead>\n",
       "    <tr style=\"text-align: right;\">\n",
       "      <th></th>\n",
       "      <th>GEO_ID</th>\n",
       "      <th>NAME</th>\n",
       "      <th>S2503_C01_001E</th>\n",
       "      <th>S2503_C01_001M</th>\n",
       "      <th>S2503_C01_002E</th>\n",
       "      <th>S2503_C01_002M</th>\n",
       "      <th>S2503_C01_003E</th>\n",
       "      <th>S2503_C01_003M</th>\n",
       "      <th>S2503_C01_004E</th>\n",
       "      <th>S2503_C01_004M</th>\n",
       "      <th>...</th>\n",
       "      <th>S2503_C06_042E</th>\n",
       "      <th>S2503_C06_042M</th>\n",
       "      <th>S2503_C06_043E</th>\n",
       "      <th>S2503_C06_043M</th>\n",
       "      <th>S2503_C06_044E</th>\n",
       "      <th>S2503_C06_044M</th>\n",
       "      <th>S2503_C06_045E</th>\n",
       "      <th>S2503_C06_045M</th>\n",
       "      <th>S2503_C06_046E</th>\n",
       "      <th>S2503_C06_046M</th>\n",
       "    </tr>\n",
       "  </thead>\n",
       "  <tbody>\n",
       "    <tr>\n",
       "      <th>0</th>\n",
       "      <td>8600000US01001</td>\n",
       "      <td>ZCTA5 01001</td>\n",
       "      <td>7413</td>\n",
       "      <td>322</td>\n",
       "      <td>230</td>\n",
       "      <td>138</td>\n",
       "      <td>163</td>\n",
       "      <td>105</td>\n",
       "      <td>320</td>\n",
       "      <td>113</td>\n",
       "      <td>...</td>\n",
       "      <td>15.6</td>\n",
       "      <td>6.9</td>\n",
       "      <td>1.6</td>\n",
       "      <td>1.8</td>\n",
       "      <td>0.0</td>\n",
       "      <td>1.7</td>\n",
       "      <td>2.1</td>\n",
       "      <td>1.7</td>\n",
       "      <td>7.9</td>\n",
       "      <td>3.5</td>\n",
       "    </tr>\n",
       "    <tr>\n",
       "      <th>1</th>\n",
       "      <td>8600000US01002</td>\n",
       "      <td>ZCTA5 01002</td>\n",
       "      <td>9798</td>\n",
       "      <td>451</td>\n",
       "      <td>562</td>\n",
       "      <td>198</td>\n",
       "      <td>376</td>\n",
       "      <td>130</td>\n",
       "      <td>465</td>\n",
       "      <td>212</td>\n",
       "      <td>...</td>\n",
       "      <td>9.3</td>\n",
       "      <td>3.0</td>\n",
       "      <td>10.7</td>\n",
       "      <td>3.7</td>\n",
       "      <td>2.6</td>\n",
       "      <td>2.2</td>\n",
       "      <td>6.3</td>\n",
       "      <td>3.2</td>\n",
       "      <td>1.1</td>\n",
       "      <td>0.9</td>\n",
       "    </tr>\n",
       "    <tr>\n",
       "      <th>2</th>\n",
       "      <td>8600000US01003</td>\n",
       "      <td>ZCTA5 01003</td>\n",
       "      <td>42</td>\n",
       "      <td>42</td>\n",
       "      <td>24</td>\n",
       "      <td>38</td>\n",
       "      <td>0</td>\n",
       "      <td>19</td>\n",
       "      <td>14</td>\n",
       "      <td>20</td>\n",
       "      <td>...</td>\n",
       "      <td>0.0</td>\n",
       "      <td>49.9</td>\n",
       "      <td>0.0</td>\n",
       "      <td>49.9</td>\n",
       "      <td>0.0</td>\n",
       "      <td>49.9</td>\n",
       "      <td>63.2</td>\n",
       "      <td>53.3</td>\n",
       "      <td>0.0</td>\n",
       "      <td>49.9</td>\n",
       "    </tr>\n",
       "    <tr>\n",
       "      <th>3</th>\n",
       "      <td>8600000US01005</td>\n",
       "      <td>ZCTA5 01005</td>\n",
       "      <td>1944</td>\n",
       "      <td>232</td>\n",
       "      <td>51</td>\n",
       "      <td>50</td>\n",
       "      <td>27</td>\n",
       "      <td>44</td>\n",
       "      <td>34</td>\n",
       "      <td>50</td>\n",
       "      <td>...</td>\n",
       "      <td>28.1</td>\n",
       "      <td>29.3</td>\n",
       "      <td>0.0</td>\n",
       "      <td>12.1</td>\n",
       "      <td>0.0</td>\n",
       "      <td>12.1</td>\n",
       "      <td>0.0</td>\n",
       "      <td>12.1</td>\n",
       "      <td>17.4</td>\n",
       "      <td>18.0</td>\n",
       "    </tr>\n",
       "    <tr>\n",
       "      <th>4</th>\n",
       "      <td>8600000US01007</td>\n",
       "      <td>ZCTA5 01007</td>\n",
       "      <td>5563</td>\n",
       "      <td>196</td>\n",
       "      <td>81</td>\n",
       "      <td>65</td>\n",
       "      <td>109</td>\n",
       "      <td>107</td>\n",
       "      <td>105</td>\n",
       "      <td>90</td>\n",
       "      <td>...</td>\n",
       "      <td>14.1</td>\n",
       "      <td>7.1</td>\n",
       "      <td>13.5</td>\n",
       "      <td>11.0</td>\n",
       "      <td>0.0</td>\n",
       "      <td>3.3</td>\n",
       "      <td>0.0</td>\n",
       "      <td>3.3</td>\n",
       "      <td>4.6</td>\n",
       "      <td>5.2</td>\n",
       "    </tr>\n",
       "  </tbody>\n",
       "</table>\n",
       "<p>5 rows × 554 columns</p>\n",
       "</div>"
      ],
      "text/plain": [
       "           GEO_ID         NAME  S2503_C01_001E  S2503_C01_001M  \\\n",
       "0  8600000US01001  ZCTA5 01001            7413             322   \n",
       "1  8600000US01002  ZCTA5 01002            9798             451   \n",
       "2  8600000US01003  ZCTA5 01003              42              42   \n",
       "3  8600000US01005  ZCTA5 01005            1944             232   \n",
       "4  8600000US01007  ZCTA5 01007            5563             196   \n",
       "\n",
       "   S2503_C01_002E  S2503_C01_002M  S2503_C01_003E  S2503_C01_003M  \\\n",
       "0             230             138             163             105   \n",
       "1             562             198             376             130   \n",
       "2              24              38               0              19   \n",
       "3              51              50              27              44   \n",
       "4              81              65             109             107   \n",
       "\n",
       "   S2503_C01_004E  S2503_C01_004M  ...  S2503_C06_042E  S2503_C06_042M  \\\n",
       "0             320             113  ...            15.6             6.9   \n",
       "1             465             212  ...             9.3             3.0   \n",
       "2              14              20  ...             0.0            49.9   \n",
       "3              34              50  ...            28.1            29.3   \n",
       "4             105              90  ...            14.1             7.1   \n",
       "\n",
       "   S2503_C06_043E  S2503_C06_043M  S2503_C06_044E  S2503_C06_044M  \\\n",
       "0             1.6             1.8             0.0             1.7   \n",
       "1            10.7             3.7             2.6             2.2   \n",
       "2             0.0            49.9             0.0            49.9   \n",
       "3             0.0            12.1             0.0            12.1   \n",
       "4            13.5            11.0             0.0             3.3   \n",
       "\n",
       "   S2503_C06_045E  S2503_C06_045M  S2503_C06_046E  S2503_C06_046M  \n",
       "0             2.1             1.7             7.9             3.5  \n",
       "1             6.3             3.2             1.1             0.9  \n",
       "2            63.2            53.3             0.0            49.9  \n",
       "3             0.0            12.1            17.4            18.0  \n",
       "4             0.0             3.3             4.6             5.2  \n",
       "\n",
       "[5 rows x 554 columns]"
      ]
     },
     "execution_count": 36,
     "metadata": {},
     "output_type": "execute_result"
    }
   ],
   "source": [
    "financial.head()"
   ]
  },
  {
   "cell_type": "code",
   "execution_count": 37,
   "id": "everyday-sunrise",
   "metadata": {},
   "outputs": [
    {
     "data": {
      "text/plain": [
       "<bound method NDFrame.head of        ZCTA  Total Occupied Units  $25,000-$34,999  $20,000-$24,999  \\\n",
       "0     01001                  7413              503              342   \n",
       "1     01002                  9798              905              322   \n",
       "2     01003                    42                0                0   \n",
       "3     01005                  1944               52               91   \n",
       "4     01007                  5563              443               65   \n",
       "..      ...                   ...              ...              ...   \n",
       "532   02777                  6361              530              195   \n",
       "533   02779                  2384               67               41   \n",
       "534   02780                 19910             2228              869   \n",
       "535   02790                  6388              409              406   \n",
       "536   02791                   234               27                7   \n",
       "\n",
       "     $15,000-$19,999  $10,000-$14,999  $5,000-$9,999  Less Than $5,000  \n",
       "0                238              320            163               230  \n",
       "1                423              465            376               562  \n",
       "2                  0               14              0                24  \n",
       "3                 17               34             27                51  \n",
       "4                124              105            109                81  \n",
       "..               ...              ...            ...               ...  \n",
       "532              147               94             69               156  \n",
       "533               53                0             26                16  \n",
       "534              707             1058            673               714  \n",
       "535              226              255             99                52  \n",
       "536                0                0             26                 0  \n",
       "\n",
       "[537 rows x 8 columns]>"
      ]
     },
     "execution_count": 37,
     "metadata": {},
     "output_type": "execute_result"
    }
   ],
   "source": [
    "financial_pd = pd.DataFrame(financial)\n",
    "\n",
    "#Renaming columns to make them more understandable\n",
    "#did the highest range because in the US, poverty threshold for a family of 4 is 26,200\n",
    "financial_pd.rename(columns = {'S2503_C01_001E' : 'Total Occupied Units', 'S2503_C01_007E': '$25,000-$34,999','S2503_C01_006E': '$20,000-$24,999', 'S2503_C01_005E': '$15,000-$19,999', 'S2503_C01_004E': '$10,000-$14,999','S2503_C01_003E': '$5,000-$9,999','S2503_C01_002E': 'Less Than $5,000', 'NAME':'ZCTA'}, inplace = True)\n",
    "\n",
    "#Remove ZCTA5 from column values so it will match when they merge\n",
    "financial_pd['ZCTA'] = financial_pd['ZCTA'].map(lambda x: x.lstrip('ZCTA5'))\n",
    "\n",
    "#choosing out the columns that are going to be analysed\n",
    "financial = financial_pd[['ZCTA', 'Total Occupied Units','$25,000-$34,999','$20,000-$24,999','$15,000-$19,999', '$10,000-$14,999', '$5,000-$9,999','Less Than $5,000']]\n",
    "financial.head()"
   ]
  },
  {
   "cell_type": "code",
   "execution_count": 38,
   "id": "bizarre-christian",
   "metadata": {},
   "outputs": [
    {
     "name": "stdout",
     "output_type": "stream",
     "text": [
      "<class 'pandas.core.frame.DataFrame'>\n"
     ]
    }
   ],
   "source": [
    "print(type(financial))"
   ]
  },
  {
   "cell_type": "code",
   "execution_count": 39,
   "id": "flexible-cornell",
   "metadata": {},
   "outputs": [
    {
     "data": {
      "text/plain": [
       "ZCTA                    object\n",
       "Total Occupied Units     int64\n",
       "$25,000-$34,999          int64\n",
       "$20,000-$24,999          int64\n",
       "$15,000-$19,999          int64\n",
       "$10,000-$14,999          int64\n",
       "$5,000-$9,999            int64\n",
       "Less Than $5,000         int64\n",
       "dtype: object"
      ]
     },
     "execution_count": 39,
     "metadata": {},
     "output_type": "execute_result"
    }
   ],
   "source": [
    "financial.dtypes"
   ]
  },
  {
   "cell_type": "code",
   "execution_count": 42,
   "id": "altered-england",
   "metadata": {},
   "outputs": [
    {
     "name": "stderr",
     "output_type": "stream",
     "text": [
      "<ipython-input-42-ebe99087090e>:1: SettingWithCopyWarning: \n",
      "A value is trying to be set on a copy of a slice from a DataFrame.\n",
      "Try using .loc[row_indexer,col_indexer] = value instead\n",
      "\n",
      "See the caveats in the documentation: https://pandas.pydata.org/pandas-docs/stable/user_guide/indexing.html#returning-a-view-versus-a-copy\n",
      "  financial['low-income'] = (financial['$25,000-$34,999'] + financial['$20,000-$24,999'] + financial['$15,000-$19,999'] + financial['$10,000-$14,999'] + financial['Less Than $5,000'])\n"
     ]
    }
   ],
   "source": [
    "financial['low-income'] = (financial['$25,000-$34,999'] + financial['$20,000-$24,999'] + financial['$15,000-$19,999'] + financial['$10,000-$14,999'] + financial['Less Than $5,000'])"
   ]
  },
  {
   "cell_type": "code",
   "execution_count": 43,
   "id": "automated-force",
   "metadata": {},
   "outputs": [
    {
     "name": "stderr",
     "output_type": "stream",
     "text": [
      "<ipython-input-43-a948746add6d>:2: SettingWithCopyWarning: \n",
      "A value is trying to be set on a copy of a slice from a DataFrame.\n",
      "Try using .loc[row_indexer,col_indexer] = value instead\n",
      "\n",
      "See the caveats in the documentation: https://pandas.pydata.org/pandas-docs/stable/user_guide/indexing.html#returning-a-view-versus-a-copy\n",
      "  financial['percent_low-income'] =  (financial['low-income']) / (financial['Total Occupied Units'])\n"
     ]
    }
   ],
   "source": [
    "#divide age by total population  (inclass vector activity)\n",
    "financial['percent_low-income'] =  (financial['low-income']) / (financial['Total Occupied Units'])\n",
    "#age['percent_seniors'] =  (age.seniors) / (age['Total Population'])\n"
   ]
  },
  {
   "cell_type": "code",
   "execution_count": 46,
   "id": "russian-archives",
   "metadata": {},
   "outputs": [
    {
     "data": {
      "text/plain": [
       "0      0.220289\n",
       "1      0.273219\n",
       "2      0.904762\n",
       "3      0.126029\n",
       "4      0.147043\n",
       "         ...   \n",
       "532    0.176387\n",
       "533    0.074245\n",
       "534    0.280060\n",
       "535    0.211021\n",
       "536    0.145299\n",
       "Name: percent_low-income, Length: 537, dtype: float64"
      ]
     },
     "execution_count": 46,
     "metadata": {},
     "output_type": "execute_result"
    }
   ],
   "source": [
    "financial['percent_low-income']"
   ]
  },
  {
   "cell_type": "markdown",
   "id": "adjusted-cabin",
   "metadata": {},
   "source": [
    "#Topic \n",
    "3. For each chosen indicator:\n",
    "(1) If applicable, visualize any spatial data the indicator is based on. (For example, the locations of certain POIs.)"
   ]
  },
  {
   "cell_type": "code",
   "execution_count": 49,
   "id": "likely-costs",
   "metadata": {},
   "outputs": [],
   "source": [
    "import geopandas as gpd"
   ]
  },
  {
   "cell_type": "code",
   "execution_count": 50,
   "id": "following-consumption",
   "metadata": {},
   "outputs": [],
   "source": [
    "zcta = gpd.read_file(r\"C:\\Users\\caree\\uep239-finalproject\\Data\\tl_2010_25_zcta510\\tl_2010_25_zcta510\\tl_2010_25_zcta510.shp\")"
   ]
  },
  {
   "cell_type": "code",
   "execution_count": 51,
   "id": "innocent-reform",
   "metadata": {},
   "outputs": [
    {
     "data": {
      "text/plain": [
       "geopandas.geodataframe.GeoDataFrame"
      ]
     },
     "execution_count": 51,
     "metadata": {},
     "output_type": "execute_result"
    }
   ],
   "source": [
    "type(zcta)"
   ]
  },
  {
   "cell_type": "code",
   "execution_count": 52,
   "id": "intensive-architect",
   "metadata": {},
   "outputs": [
    {
     "data": {
      "text/plain": [
       "Index(['STATEFP10', 'ZCTA5CE10', 'GEOID10', 'CLASSFP10', 'MTFCC10',\n",
       "       'FUNCSTAT10', 'ALAND10', 'AWATER10', 'INTPTLAT10', 'INTPTLON10',\n",
       "       'PARTFLG10', 'geometry'],\n",
       "      dtype='object')"
      ]
     },
     "execution_count": 52,
     "metadata": {},
     "output_type": "execute_result"
    }
   ],
   "source": [
    "zcta.columns"
   ]
  },
  {
   "cell_type": "code",
   "execution_count": 53,
   "id": "integrated-petroleum",
   "metadata": {},
   "outputs": [
    {
     "data": {
      "text/plain": [
       "<Geographic 2D CRS: EPSG:4269>\n",
       "Name: NAD83\n",
       "Axis Info [ellipsoidal]:\n",
       "- Lat[north]: Geodetic latitude (degree)\n",
       "- Lon[east]: Geodetic longitude (degree)\n",
       "Area of Use:\n",
       "- name: North America - onshore and offshore: Canada - Alberta; British Columbia; Manitoba; New Brunswick; Newfoundland and Labrador; Northwest Territories; Nova Scotia; Nunavut; Ontario; Prince Edward Island; Quebec; Saskatchewan; Yukon. Puerto Rico. United States (USA) - Alabama; Alaska; Arizona; Arkansas; California; Colorado; Connecticut; Delaware; Florida; Georgia; Hawaii; Idaho; Illinois; Indiana; Iowa; Kansas; Kentucky; Louisiana; Maine; Maryland; Massachusetts; Michigan; Minnesota; Mississippi; Missouri; Montana; Nebraska; Nevada; New Hampshire; New Jersey; New Mexico; New York; North Carolina; North Dakota; Ohio; Oklahoma; Oregon; Pennsylvania; Rhode Island; South Carolina; South Dakota; Tennessee; Texas; Utah; Vermont; Virginia; Washington; West Virginia; Wisconsin; Wyoming. US Virgin Islands.  British Virgin Islands.\n",
       "- bounds: (167.65, 14.92, -47.74, 86.46)\n",
       "Datum: North American Datum 1983\n",
       "- Ellipsoid: GRS 1980\n",
       "- Prime Meridian: Greenwich"
      ]
     },
     "execution_count": 53,
     "metadata": {},
     "output_type": "execute_result"
    }
   ],
   "source": [
    "zcta.crs"
   ]
  },
  {
   "cell_type": "code",
   "execution_count": 54,
   "id": "experimental-attendance",
   "metadata": {},
   "outputs": [
    {
     "data": {
      "text/plain": [
       "<AxesSubplot:>"
      ]
     },
     "execution_count": 54,
     "metadata": {},
     "output_type": "execute_result"
    },
    {
     "data": {
      "image/png": "[encoded data removed]",
      "text/plain": [
       "<Figure size 432x288 with 1 Axes>"
      ]
     },
     "metadata": {
      "needs_background": "light"
     },
     "output_type": "display_data"
    }
   ],
   "source": [
    "zcta.plot()\n"
   ]
  },
  {
   "cell_type": "code",
   "execution_count": 55,
   "id": "spare-mother",
   "metadata": {},
   "outputs": [],
   "source": [
    "#reading in shapefiles. Should I be reading in and visualising all shapefiles here? yes Primary and supplemental?\n",
    "hospitals = gpd.read_file(r\"C:\\Users\\caree\\uep239-finalproject\\Data\\tl_2010_25_zcta510\\tl_2010_25_zcta510\\tl_2010_25_zcta510.shp\")"
   ]
  },
  {
   "cell_type": "code",
   "execution_count": 56,
   "id": "answering-closure",
   "metadata": {},
   "outputs": [],
   "source": [
    "from scipy import ndimage"
   ]
  },
  {
   "cell_type": "code",
   "execution_count": 57,
   "id": "moral-static",
   "metadata": {},
   "outputs": [],
   "source": [
    "nearest_hospital = ndimage.distance_transform_edt(hospitals)"
   ]
  },
  {
   "cell_type": "code",
   "execution_count": 58,
   "id": "continental-helena",
   "metadata": {},
   "outputs": [
    {
     "data": {
      "text/plain": [
       "array([[71.34423593, 71.25307011, 71.1758386 , ..., 71.02816343,\n",
       "        71.06335202, 71.11258679],\n",
       "       [70.34912935, 70.25667228, 70.17834424, ..., 70.0285656 ,\n",
       "        70.06425622, 70.11419257],\n",
       "       [69.35416354, 69.26037828, 69.18092223, ..., 69.02897942,\n",
       "        69.0651866 , 69.11584478],\n",
       "       ...,\n",
       "       [27.89265136, 27.65863337, 27.45906044, ..., 27.07397274,\n",
       "        27.16615541, 27.29468813],\n",
       "       [28.86173938, 28.63564213, 28.44292531, ..., 28.0713377 ,\n",
       "        28.16025568, 28.28427125],\n",
       "       [29.83286778, 29.61418579, 29.42787794, ..., 29.06888371,\n",
       "        29.15475947, 29.27456234]])"
      ]
     },
     "execution_count": 58,
     "metadata": {},
     "output_type": "execute_result"
    }
   ],
   "source": [
    "nearest_hospital"
   ]
  },
  {
   "cell_type": "code",
   "execution_count": 61,
   "id": "exact-liability",
   "metadata": {},
   "outputs": [
    {
     "data": {
      "text/plain": [
       "numpy.ndarray"
      ]
     },
     "execution_count": 61,
     "metadata": {},
     "output_type": "execute_result"
    }
   ],
   "source": [
    "type(nearest_hospital)"
   ]
  },
  {
   "cell_type": "code",
   "execution_count": 65,
   "id": "western-agenda",
   "metadata": {},
   "outputs": [
    {
     "ename": "AttributeError",
     "evalue": "'numpy.ndarray' object has no attribute 'head'",
     "output_type": "error",
     "traceback": [
      "\u001b[1;31m---------------------------------------------------------------------------\u001b[0m",
      "\u001b[1;31mAttributeError\u001b[0m                            Traceback (most recent call last)",
      "\u001b[1;32m<ipython-input-65-ccf7e9f25b3f>\u001b[0m in \u001b[0;36m<module>\u001b[1;34m\u001b[0m\n\u001b[1;32m----> 1\u001b[1;33m \u001b[0mnearest_hospital\u001b[0m\u001b[1;33m.\u001b[0m\u001b[0mhead\u001b[0m\u001b[1;33m(\u001b[0m\u001b[1;33m)\u001b[0m\u001b[1;33m\u001b[0m\u001b[1;33m\u001b[0m\u001b[0m\n\u001b[0m",
      "\u001b[1;31mAttributeError\u001b[0m: 'numpy.ndarray' object has no attribute 'head'"
     ]
    }
   ],
   "source": [
    "#nearest_hospital.head()"
   ]
  },
  {
   "cell_type": "code",
   "execution_count": null,
   "id": "favorite-equality",
   "metadata": {},
   "outputs": [],
   "source": [
    "#Merge and then plot \n",
    "#how to merge numpy array with geopandas\n",
    "#like this? https://www.w3schools.com/python/numpy/numpy_array_join.asp\n",
    "zcta.merge(nearest_hospital,left_on='ZCTA5CE10', right_on='')\n",
    "\n",
    "nearest_hospital.plot()"
   ]
  },
  {
   "cell_type": "code",
   "execution_count": null,
   "id": "strong-shield",
   "metadata": {},
   "outputs": [],
   "source": [
    "#hospitals = hospitals.to_crs('epsg:4269') # Long Island State Plain"
   ]
  },
  {
   "cell_type": "code",
   "execution_count": null,
   "id": "automotive-blade",
   "metadata": {},
   "outputs": [],
   "source": [
    "#hospitals.crs"
   ]
  },
  {
   "cell_type": "code",
   "execution_count": null,
   "id": "upset-number",
   "metadata": {},
   "outputs": [],
   "source": [
    "#zcta.crs == hospitals.crs"
   ]
  },
  {
   "cell_type": "code",
   "execution_count": null,
   "id": "informal-briefs",
   "metadata": {},
   "outputs": [],
   "source": [
    "#no need to merge. Already at the level of zcta\n",
    "#zcta_merge = zcta.merge(hospitals,left_on=\"ZCTA5CE10\",right_on=\"ZCTA5CE10\")\n",
    "#zcta_merge.head()"
   ]
  },
  {
   "cell_type": "code",
   "execution_count": null,
   "id": "inclusive-greensboro",
   "metadata": {},
   "outputs": [],
   "source": [
    "#for acs data, merge to zcta and then plot. have to do this in order to be able to plot"
   ]
  },
  {
   "cell_type": "code",
   "execution_count": null,
   "id": "waiting-diving",
   "metadata": {},
   "outputs": [],
   "source": [
    "#don't need this, right?\n",
    "#boundaries = gpd.read_file(r\"C:\\Users\\caree\\uep239-finalproject\\Data\\MPO_Boundaries\\MPO_Boundaries\\MPO_Boundaries.shp\")"
   ]
  },
  {
   "cell_type": "code",
   "execution_count": null,
   "id": "vertical-omaha",
   "metadata": {},
   "outputs": [],
   "source": [
    "#type(boundaries)"
   ]
  },
  {
   "cell_type": "code",
   "execution_count": 75,
   "id": "working-touch",
   "metadata": {},
   "outputs": [],
   "source": [
    "zcta_fin = zcta.merge(financial,left_on='ZCTA5CE10', right_on='ZCTA')"
   ]
  },
  {
   "cell_type": "code",
   "execution_count": 77,
   "id": "african-slovak",
   "metadata": {},
   "outputs": [],
   "source": [
    "#merged but not plotting\n",
    "#zcta_fin.plot()"
   ]
  },
  {
   "cell_type": "code",
   "execution_count": null,
   "id": "needed-tutorial",
   "metadata": {},
   "outputs": [],
   "source": [
    "zcta_age = zcta_fin.merge(age,left_on='ZCTA5CE10', right_on='ZCTA')"
   ]
  },
  {
   "cell_type": "code",
   "execution_count": null,
   "id": "strategic-looking",
   "metadata": {},
   "outputs": [],
   "source": [
    "zcta_age.plot()zcta_age = zcta_fin.merge(age,left_on='ZCTA5CE10', right_on='ZCTA')"
   ]
  },
  {
   "cell_type": "code",
   "execution_count": null,
   "id": "behind-horror",
   "metadata": {},
   "outputs": [],
   "source": [
    "zcta_lim = zcta_age.merge(limited_eng,left_on='ZCTA5CE10', right_on='ZCTA')"
   ]
  },
  {
   "cell_type": "code",
   "execution_count": null,
   "id": "incorporate-discipline",
   "metadata": {},
   "outputs": [],
   "source": [
    "zcta_lim.plot()"
   ]
  },
  {
   "cell_type": "code",
   "execution_count": null,
   "id": "ultimate-architect",
   "metadata": {},
   "outputs": [],
   "source": [
    "zcta_for = zcta_lim.merge(foreign,left_on='ZCTA5CE10', right_on='ZCTA')"
   ]
  },
  {
   "cell_type": "code",
   "execution_count": null,
   "id": "superior-adobe",
   "metadata": {},
   "outputs": [],
   "source": [
    "zcta_for.plot()"
   ]
  },
  {
   "cell_type": "markdown",
   "id": "innovative-wrapping",
   "metadata": {},
   "source": [
    "#Topic\n",
    "3(2). Summarize the indicator values (like population density) for each ZCTA in the study area."
   ]
  },
  {
   "cell_type": "code",
   "execution_count": null,
   "id": "front-ladder",
   "metadata": {},
   "outputs": [],
   "source": [
    "#closest hospitals\n",
    "#nh_min = nearest_hospital.min()\n",
    "#not sure what to put in column spaces\n",
    "nh_min = nearest_hospital[''].groupby(nearest_hospital['']).agg(['min'])"
   ]
  },
  {
   "cell_type": "code",
   "execution_count": null,
   "id": "linear-emerald",
   "metadata": {},
   "outputs": [],
   "source": [
    "#hospitals that are farthest away\n",
    "#nh_max = nearest_hospital.max()\n",
    "nh_max = nearest_hospital[''].groupby(nearest_hospital['']).agg(['max'])"
   ]
  },
  {
   "cell_type": "code",
   "execution_count": null,
   "id": "deadly-deposit",
   "metadata": {},
   "outputs": [],
   "source": [
    "#mean distance\n",
    "#nh_mean = nearest_hospital.mean()\n",
    "nh_mean = nearest_hospital[''].groupby(nearest_hospital['']).agg(['min'])"
   ]
  },
  {
   "cell_type": "code",
   "execution_count": null,
   "id": "intermediate-wrong",
   "metadata": {},
   "outputs": [],
   "source": [
    "#highest number of seniors in a ZCTA\n",
    "#should I be using merged or unmerged age?\n",
    "#age_max = zcta_age['percent_seniors'].max()\n",
    "age_max = zcta_age['percent_seniors'].groupby(zcta_age['ZCTA']).agg(['max'])"
   ]
  },
  {
   "cell_type": "code",
   "execution_count": null,
   "id": "responsible-bicycle",
   "metadata": {},
   "outputs": [],
   "source": [
    "#lowest numnber of seniors in a ZCTA\n",
    "#age_min = zcta_age['percent_seniors'].min()\n",
    "age_min = zcta_age['percent_seniors'].groupby(zcta_age['ZCTA']).agg(['min'])"
   ]
  },
  {
   "cell_type": "code",
   "execution_count": null,
   "id": "allied-motion",
   "metadata": {},
   "outputs": [],
   "source": [
    "#average numnber of seniors in a ZCTA\n",
    "#age_mean = zcta_age['percent_seniors'].mean()\n",
    "age_mean = zcta_age['percent_seniors'].groupby(zcta_age['ZCTA']).agg(['mean'])"
   ]
  },
  {
   "cell_type": "code",
   "execution_count": null,
   "id": "integrated-course",
   "metadata": {},
   "outputs": [],
   "source": [
    "#highest percentage of low-income in a ZCTA\n",
    "#financial_max = zcta_fin['percent_low-income'].max()\n",
    "financial_max = zcta_fin['percent_low-income'].groupby(zcta_fin['ZCTA']).agg(['max'])"
   ]
  },
  {
   "cell_type": "code",
   "execution_count": null,
   "id": "tracked-default",
   "metadata": {},
   "outputs": [],
   "source": [
    "#lowest percentage of low-income in a ZCTA\n",
    "#financial_min = zcta_fin['percent_low-income'].min()\n",
    "financial_min = zcta_fin['percent_low-income'].groupby(zcta_fin['ZCTA']).agg(['min'])"
   ]
  },
  {
   "cell_type": "code",
   "execution_count": null,
   "id": "liquid-uniform",
   "metadata": {},
   "outputs": [],
   "source": [
    "#highest percentage of low-income in a ZCTA\n",
    "#financial_mean = zcta_fin['percent_low-income'].mean()\n",
    "financial_mean = zcta_fin['percent_low-income'].groupby(zcta_fin['ZCTA']).agg(['mean'])"
   ]
  },
  {
   "cell_type": "code",
   "execution_count": null,
   "id": "sunset-thanksgiving",
   "metadata": {},
   "outputs": [],
   "source": [
    "#highest percentage of limited english speaking households in a ZCTA\n",
    "#limited_max = zcta_lim['percent_limited'].max()\n",
    "limited_max = zcta_lim['percent_limited'].groupby(zcta_lim['ZCTA']).agg(['max'])\n"
   ]
  },
  {
   "cell_type": "code",
   "execution_count": null,
   "id": "pleased-flashing",
   "metadata": {},
   "outputs": [],
   "source": [
    "#lowest percentage of limited english speaking households in a ZCTA\n",
    "#limited_min = zcta_lim['percent_limited'].min()\n",
    "limited_min = zcta_lim['percent_limited'].groupby(zcta_lim['ZCTA']).agg(['min'])\n"
   ]
  },
  {
   "cell_type": "code",
   "execution_count": null,
   "id": "brown-friday",
   "metadata": {},
   "outputs": [],
   "source": [
    "#average percentage of limited english speakers in a ZCTA\n",
    "#limited_mean = zcta_lim['percent_limited'].mean()\n",
    "limited_mean = zcta_lim['percent_limited'].groupby(zcta_lim['ZCTA']).agg(['mean'])\n"
   ]
  },
  {
   "cell_type": "code",
   "execution_count": null,
   "id": "horizontal-creativity",
   "metadata": {},
   "outputs": [],
   "source": [
    "#highest percentage of foreign born population in a ZCTA\n",
    "#foreign_max = zcta_for['percent_foreign'].max()\n",
    "foreign_max = zcta_for['percent_foreign'].groupby(zcta_for['ZCTA']).agg(['max'])\n"
   ]
  },
  {
   "cell_type": "code",
   "execution_count": null,
   "id": "quiet-ontario",
   "metadata": {},
   "outputs": [],
   "source": [
    "#lowest percentage of foreign born population in a ZCTA\n",
    "#foreign_min = zcta_for['percent_foreign'].min()\n",
    "foreign_min = zcta_for['percent_foreign'].groupby(zcta_for['ZCTA']).agg(['min'])\n"
   ]
  },
  {
   "cell_type": "code",
   "execution_count": null,
   "id": "spoken-brief",
   "metadata": {},
   "outputs": [],
   "source": [
    "#mean percentage of foreign born population in a ZCTA\n",
    "#foreign_mean = zcta_for['percent_foreign'].mean()\n",
    "foreign_mean = zcta_for['percent_foreign'].groupby(zcta_for['ZCTA']).agg(['mean'])\n"
   ]
  },
  {
   "cell_type": "markdown",
   "id": "following-accreditation",
   "metadata": {},
   "source": [
    "\n",
    "3(3) Produce a choropleth map visualizing the indicator values and produce a ZCTA ranking based on the indicator values, reporting the highest and lowest ranking ZCTAs."
   ]
  },
  {
   "cell_type": "code",
   "execution_count": null,
   "id": "local-audio",
   "metadata": {},
   "outputs": [],
   "source": [
    "zcta_for.crs == zcta.crs\n"
   ]
  },
  {
   "cell_type": "code",
   "execution_count": null,
   "id": "applied-cover",
   "metadata": {},
   "outputs": [],
   "source": [
    "#sort the values based on ZCTA\n",
    "zcta_sort = zcta_for.sort_values('ZCTA',ascending=False)\n",
    "print(zcta_sort)\n",
    "\n",
    "#shows the highest value\n",
    "zcta_sort.head(1)"
   ]
  },
  {
   "cell_type": "code",
   "execution_count": null,
   "id": "framed-spell",
   "metadata": {},
   "outputs": [],
   "source": [
    "import matplotlib.pyplot as plt\n",
    "zcta_sort.plot(column='ZCTA',\n",
    "           legend=True,\n",
    "           cmap='OrRd',\n",
    "           figsize=(15, 10),\n",
    "           legend_kwds={'label': \"Highest Ranking ZCTAs\", 'orientation': \"horizontal\"})"
   ]
  },
  {
   "cell_type": "markdown",
   "id": "funky-pattern",
   "metadata": {},
   "source": [
    "#Topic\n",
    "3(4) Convert the indicator values into a suitability or vulnerability index or score. This can be done in two ways:\n",
    "Reclassify the indicator values based on classes of your choice into a five-point (or ten-point) score.\n",
    "\n",
    "Normalize the indicator values into a suitability or vulnerability index ranging from zero to one."
   ]
  },
  {
   "cell_type": "code",
   "execution_count": null,
   "id": "satisfied-cyprus",
   "metadata": {},
   "outputs": [],
   "source": [
    "#normalising the data \n",
    "def normalization(df):\n",
    "    df_scaled = df.copy()\n",
    "    for column in df_scaled.columns:\n",
    "        try:\n",
    "            df_scaled[column] = df_scaled[column] / df_scaled[column].abs().max()\n",
    "        except TypeError:\n",
    "            return df_scaled"
   ]
  },
  {
   "cell_type": "code",
   "execution_count": null,
   "id": "unlimited-dinner",
   "metadata": {},
   "outputs": [],
   "source": [
    "age_norm = normalization(age)\n",
    "age_norm"
   ]
  },
  {
   "cell_type": "code",
   "execution_count": null,
   "id": "durable-picnic",
   "metadata": {},
   "outputs": [],
   "source": [
    "foreign_norm = normalization(foreign)\n",
    "foreign_norm"
   ]
  },
  {
   "cell_type": "code",
   "execution_count": null,
   "id": "resident-margin",
   "metadata": {},
   "outputs": [],
   "source": [
    "limited_eng_norm = normalization(limited_eng)\n",
    "limited_eng_norm"
   ]
  },
  {
   "cell_type": "code",
   "execution_count": null,
   "id": "trying-barrier",
   "metadata": {},
   "outputs": [],
   "source": [
    "financial = normalization(financial)\n",
    "financial_norm"
   ]
  },
  {
   "cell_type": "markdown",
   "id": "julian-monte",
   "metadata": {},
   "source": [
    "#Topic\n",
    "4. Summarize the single indicator based scores or indices into an overall weighted or unweighted score or index. You should justify any chosen weights or the decision to forego weighting the indicators (assigning each indicator an equal weight). You are welcome to produce both a weighted and an unweighted overall index or score."
   ]
  },
  {
   "cell_type": "code",
   "execution_count": null,
   "id": "modular-personal",
   "metadata": {},
   "outputs": [],
   "source": [
    "#decided to do unweighted because more research needs to be done to fig\n",
    "zcta_lim['unweighted_score'] = age_norm + foreign_norm + limited_eng_norm + financial_norm"
   ]
  },
  {
   "cell_type": "code",
   "execution_count": null,
   "id": "fleet-occasions",
   "metadata": {},
   "outputs": [],
   "source": [
    "zcta_lim['unweighted_score']"
   ]
  },
  {
   "cell_type": "code",
   "execution_count": null,
   "id": "indoor-bankruptcy",
   "metadata": {},
   "outputs": [],
   "source": [
    "#should this be added to ZTCA to be able to sort? or is it okay because I added as a column?\n",
    "#zcta_norm = zcta_lim.merge(unweighted_score,left_on='ZCTA5CE10', right_on='ZCTA')"
   ]
  },
  {
   "cell_type": "markdown",
   "id": "concrete-inclusion",
   "metadata": {},
   "source": [
    "#Topic\n",
    "5. Visualize the overall suitability or vulnerability index or score on a choropleth map and produce a ZCTA ranking based on the score or index, reporting the highest and lowest ranking ZCTAs."
   ]
  },
  {
   "cell_type": "code",
   "execution_count": null,
   "id": "confirmed-olympus",
   "metadata": {},
   "outputs": [],
   "source": [
    "norm_sort = zcta_lim.sort_values('unweighted_score',ascending=False)\n",
    "print(zcta_norm)"
   ]
  },
  {
   "cell_type": "code",
   "execution_count": null,
   "id": "molecular-dimension",
   "metadata": {},
   "outputs": [],
   "source": [
    "import matplotlib.pyplot as plt\n",
    "zcta_sort.plot(column='unweighted_score',\n",
    "           legend=True,\n",
    "           cmap='OrRd',\n",
    "           figsize=(15, 10),\n",
    "           legend_kwds={'label': \"Highest Ranking ZCTAs\", 'orientation': \"horizontal\"})"
   ]
  },
  {
   "cell_type": "code",
   "execution_count": null,
   "id": "harmful-newman",
   "metadata": {},
   "outputs": [],
   "source": [
    "#what are the most and least vulnerable zip codes?"
   ]
  }
 ],
 "metadata": {
  "kernelspec": {
   "display_name": "Python [conda env:uep239]",
   "language": "python",
   "name": "conda-env-uep239-py"
  },
  "language_info": {
   "codemirror_mode": {
    "name": "ipython",
    "version": 3
   },
   "file_extension": ".py",
   "mimetype": "text/x-python",
   "name": "python",
   "nbconvert_exporter": "python",
   "pygments_lexer": "ipython3",
   "version": "3.8.8"
  }
 },
 "nbformat": 4,
 "nbformat_minor": 5
}
