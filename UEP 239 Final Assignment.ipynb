{
 "cells": [
  {
   "cell_type": "code",
   "execution_count": 1,
   "id": "executed-spain",
   "metadata": {},
   "outputs": [
    {
     "ename": "ModuleNotFoundError",
     "evalue": "No module named 'pandas'",
     "output_type": "error",
     "traceback": [
      "\u001b[1;31m---------------------------------------------------------------------------\u001b[0m",
      "\u001b[1;31mModuleNotFoundError\u001b[0m                       Traceback (most recent call last)",
      "\u001b[1;32m<ipython-input-1-3e3ae385ff80>\u001b[0m in \u001b[0;36m<module>\u001b[1;34m\u001b[0m\n\u001b[0;32m      2\u001b[0m                                  \u001b[1;31m# You can even run Fortran and C++ code in numpy\u001b[0m\u001b[1;33m\u001b[0m\u001b[1;33m\u001b[0m\u001b[1;33m\u001b[0m\u001b[0m\n\u001b[0;32m      3\u001b[0m \u001b[1;33m\u001b[0m\u001b[0m\n\u001b[1;32m----> 4\u001b[1;33m \u001b[1;32mimport\u001b[0m \u001b[0mpandas\u001b[0m \u001b[1;32mas\u001b[0m \u001b[0mpd\u001b[0m              \u001b[1;31m# Load pandas, for data frames - note these are just the same as R data frames - similar to dplyr/plyr\u001b[0m\u001b[1;33m\u001b[0m\u001b[1;33m\u001b[0m\u001b[0m\n\u001b[0m\u001b[0;32m      5\u001b[0m \u001b[1;32mimport\u001b[0m \u001b[0mmatplotlib\u001b[0m\u001b[1;33m.\u001b[0m\u001b[0mpyplot\u001b[0m \u001b[1;32mas\u001b[0m \u001b[0mplt\u001b[0m  \u001b[1;31m# Load matplotlib for plotting and\u001b[0m\u001b[1;33m\u001b[0m\u001b[1;33m\u001b[0m\u001b[0m\n\u001b[0;32m      6\u001b[0m \u001b[1;32mimport\u001b[0m \u001b[0mmatplotlib\u001b[0m\u001b[1;33m.\u001b[0m\u001b[0mimage\u001b[0m \u001b[1;32mas\u001b[0m \u001b[0mmpimg\u001b[0m \u001b[1;31m# For plotting image (raster) data\u001b[0m\u001b[1;33m\u001b[0m\u001b[1;33m\u001b[0m\u001b[0m\n",
      "\u001b[1;31mModuleNotFoundError\u001b[0m: No module named 'pandas'"
     ]
    }
   ],
   "source": [
    "#loading in relevant packages\n",
    "import pandas as pd \n",
    "import pandas as pd              \n",
    "import matplotlib.pyplot as plt\n",
    "import matplotlib.image as mpimg\n",
    "%matplotlib inline\n",
    "import folium   \n",
    "import seaborn as sns "
   ]
  },
  {
   "cell_type": "code",
   "execution_count": null,
   "id": "equivalent-warehouse",
   "metadata": {},
   "outputs": [],
   "source": [
    "#making sure that I'm working with the right file path\n",
    "import os\n",
    "os.chdir(os.path.dirname(r\"C:\\Users\\caree\\uep239-finalproject\"))\n",
    "print(\"Path changed to: \"+os.getcwd())"
   ]
  },
  {
   "cell_type": "code",
   "execution_count": null,
   "id": "genetic-afternoon",
   "metadata": {},
   "outputs": [],
   "source": [
    "#loading in csv data (age and sex info for population)\n",
    "age_sex = pd.read_csv(r\"C:\\Users\\caree\\uep239-finalproject\\Data\\ACSST5Y2019.S0101\\ACSST5Y2019.S0101\\ACSST5Y2019.S0101_data_with_overlays.csv\")\n",
    "age_sex.info()"
   ]
  },
  {
   "cell_type": "code",
   "execution_count": null,
   "id": "incredible-broadcasting",
   "metadata": {},
   "outputs": [],
   "source": [
    "#loading in csv data (level of educational attainment)\n",
    "education = pd.read_csv(r\"C:\\Users\\caree\\uep239-finalproject\\Data\\ACSST5Y2019.S1501\\ACSST5Y2019.S1501\\ACSST5Y2019.S1501_data_with_overlays.csv\")\n",
    "education.info()"
   ]
  },
  {
   "cell_type": "code",
   "execution_count": null,
   "id": "downtown-connecticut",
   "metadata": {},
   "outputs": [],
   "source": [
    "#loading in csv data(population that speaks limited english)\n",
    "limited_eng = pd.read_csv(r\"C:\\Users\\caree\\uep239-finalproject\\Data\\ACSST5Y2019.S1602_2021-05-12T065118\\ACSST5Y2019.S1602_data_with_overlays_2021-05-12T065115.csv\")\n",
    "limited_end.info()"
   ]
  },
  {
   "cell_type": "code",
   "execution_count": null,
   "id": "destroyed-murder",
   "metadata": {},
   "outputs": [],
   "source": [
    "#loading in csv data (financial charachteristics of population)\n",
    "financial = pd.read_csv(r\"C:\\Users\\caree\\uep239-finalproject\\Data\\ACSST5Y2019.S2503\\ACSST5Y2019.S2503\\ACSST5Y2019.S2503_data_with_overlays.csv\")\n",
    "financial.info()"
   ]
  },
  {
   "cell_type": "code",
   "execution_count": null,
   "id": "decimal-empty",
   "metadata": {},
   "outputs": [],
   "source": [
    "#listing columns for csv data\n",
    "age_sex.columns.values.tolist()"
   ]
  },
  {
   "cell_type": "code",
   "execution_count": null,
   "id": "massive-arena",
   "metadata": {},
   "outputs": [],
   "source": [
    "#checking for null values in csv data\n",
    "age_sex.isnull().sum()"
   ]
  },
  {
   "cell_type": "code",
   "execution_count": null,
   "id": "demanding-judge",
   "metadata": {},
   "outputs": [],
   "source": [
    "#listing columns for csv data\n",
    "education.columns.values.tolist()"
   ]
  },
  {
   "cell_type": "code",
   "execution_count": null,
   "id": "artificial-finder",
   "metadata": {},
   "outputs": [],
   "source": [
    "#checking for null values in csv data\n",
    "education.isnull().sum()"
   ]
  },
  {
   "cell_type": "code",
   "execution_count": null,
   "id": "alone-martin",
   "metadata": {},
   "outputs": [],
   "source": [
    "#listing columns for csv data\n",
    "limited_eng.columns.values.tolist()"
   ]
  },
  {
   "cell_type": "code",
   "execution_count": null,
   "id": "aggregate-gathering",
   "metadata": {},
   "outputs": [],
   "source": [
    "#checking for null values in csv data\n",
    "limited_eng.isnull().sum()"
   ]
  },
  {
   "cell_type": "code",
   "execution_count": null,
   "id": "intelligent-aspect",
   "metadata": {},
   "outputs": [],
   "source": [
    "#listing columns for csv data\n",
    "financial.columns.values.tolist()"
   ]
  },
  {
   "cell_type": "code",
   "execution_count": null,
   "id": "concerned-airline",
   "metadata": {},
   "outputs": [],
   "source": [
    "#checking for null values in csv data\n",
    "financial.isnull().sum()"
   ]
  },
  {
   "cell_type": "code",
   "execution_count": null,
   "id": "civil-marketplace",
   "metadata": {},
   "outputs": [],
   "source": [
    "#checking type of data for csv data and looking at first 5 rows\n",
    "type(age_sex)\n",
    "age_sex.head(5)"
   ]
  },
  {
   "cell_type": "code",
   "execution_count": null,
   "id": "talented-florida",
   "metadata": {},
   "outputs": [],
   "source": [
    "#checking type of data for csv data and looking at first 5 rows\n",
    "type(education)\n",
    "education.head(5)"
   ]
  },
  {
   "cell_type": "code",
   "execution_count": null,
   "id": "published-breeding",
   "metadata": {},
   "outputs": [],
   "source": [
    "#checking type of data for csv data and looking at first 5 rows\n",
    "type(limited_eng)\n",
    "limited_eng.head(5)"
   ]
  },
  {
   "cell_type": "code",
   "execution_count": null,
   "id": "found-sally",
   "metadata": {},
   "outputs": [],
   "source": [
    "#checking type of data for csv data and looking at first 5 rows\n",
    "type(financial)\n",
    "financial.head(5)"
   ]
  },
  {
   "cell_type": "code",
   "execution_count": null,
   "id": "spiritual-narrative",
   "metadata": {},
   "outputs": [],
   "source": [
    "#attempting to clean data\n",
    "#how to just clean entire table? aka what should be going in between the double quotation marks? Also, what to do about second row of data? (header = 0)\n",
    "age_sex[\"\"]=age_sex[\"\"].str.replace('!','')\n",
    "age_sex[\"\"].unique()\n",
    "age_sex[\"\"]=age_sex[\"\"].str.replace('.','')\n",
    "age_sex[\"\"].unique()\n",
    "age_sex[\"\"]=age_sex[\"\".str.replace(',','').astype(float)\n",
    "age_sex[\"\"].unique()"
   ]
  },
  {
   "cell_type": "markdown",
   "id": "timely-philosophy",
   "metadata": {},
   "source": [
    "#just creating a map based on the shapefiles? \n",
    "3. For each chosen indicator:\n",
    "(1) If applicable, visualize any spatial data the indicator is based on. (For example, the locations of certain POIs.)"
   ]
  },
  {
   "cell_type": "code",
   "execution_count": null,
   "id": "massive-jungle",
   "metadata": {},
   "outputs": [],
   "source": [
    "#reading in shapefiles. Should I be reading in and visualising all shapefiles here? Primary and supplemental?\n",
    "bus = gpd.read_file(r\"C:\\Users\\caree\\uep239-finalproject\\Data\\MBTA_Bus_Stops\\MBTA_Bus_Stops\\MBTA_Bus_Stops.shp\")"
   ]
  },
  {
   "cell_type": "code",
   "execution_count": null,
   "id": "optional-ready",
   "metadata": {},
   "outputs": [],
   "source": [
    "type(bus)"
   ]
  },
  {
   "cell_type": "code",
   "execution_count": null,
   "id": "blocked-relay",
   "metadata": {},
   "outputs": [],
   "source": [
    "fstation = gpd.read_file(r\"C:\\Users\\caree\\uep239-finalproject\\Data\\FIRESTATIONS_PT_MEMA\\FIRESTATIONS_PT_MEMA\\FIRESTATIONS_PT_MEMA.shp\")"
   ]
  },
  {
   "cell_type": "code",
   "execution_count": null,
   "id": "under-softball",
   "metadata": {},
   "outputs": [],
   "source": [
    "type(fstation)"
   ]
  },
  {
   "cell_type": "code",
   "execution_count": null,
   "id": "several-enlargement",
   "metadata": {},
   "outputs": [],
   "source": [
    "boundaries = gpd.read_file(r\"C:\\Users\\caree\\uep239-finalproject\\Data\\MPO_Boundaries\\MPO_Boundaries\\MPO_Boundaries.shp\")"
   ]
  },
  {
   "cell_type": "code",
   "execution_count": null,
   "id": "original-break",
   "metadata": {},
   "outputs": [],
   "source": [
    "type(boundaries)"
   ]
  },
  {
   "cell_type": "code",
   "execution_count": null,
   "id": "twelve-aircraft",
   "metadata": {},
   "outputs": [],
   "source": [
    "zcta = gpd.read_file(r\"C:\\Users\\caree\\uep239-finalproject\\Data\\tl_2010_25_zcta510\\tl_2010_25_zcta510\\tl_2010_25_zcta510.shp\")"
   ]
  },
  {
   "cell_type": "code",
   "execution_count": null,
   "id": "supported-toyota",
   "metadata": {},
   "outputs": [],
   "source": [
    "type(zcta)"
   ]
  },
  {
   "cell_type": "code",
   "execution_count": null,
   "id": "resistant-sight",
   "metadata": {},
   "outputs": [],
   "source": [
    "hcenter = gpd.read_file(r\"C:\\Users\\caree\\uep239-finalproject\\Data\\CHCS_PT\\CHCS_PT\\CHCS_PT.shp\")"
   ]
  },
  {
   "cell_type": "code",
   "execution_count": null,
   "id": "diverse-finland",
   "metadata": {},
   "outputs": [],
   "source": [
    "type(hcenter)"
   ]
  },
  {
   "cell_type": "code",
   "execution_count": null,
   "id": "legitimate-neighbor",
   "metadata": {},
   "outputs": [],
   "source": [
    "hospitals = gpd.read_file(r\"C:\\Users\\caree\\uep239-finalproject\\Data\\tl_2010_25_zcta510\\tl_2010_25_zcta510\\tl_2010_25_zcta510.shp\")"
   ]
  },
  {
   "cell_type": "code",
   "execution_count": null,
   "id": "cubic-french",
   "metadata": {},
   "outputs": [],
   "source": [
    "type(hospitals)"
   ]
  },
  {
   "cell_type": "markdown",
   "id": "innovative-outside",
   "metadata": {},
   "source": [
    "#what exactly does this mean?\n",
    "3(2). Summarize the indicator values (like population density) for each ZCTA in the study area."
   ]
  },
  {
   "cell_type": "markdown",
   "id": "tight-advertiser",
   "metadata": {},
   "source": [
    "#what would I be doing here? I know I should join but how?\n",
    "3(3) Produce a choropleth map visualizing the indicator values and produce a ZCTA ranking based on the indicator values, reporting the highest and lowest ranking ZCTAs."
   ]
  },
  {
   "cell_type": "markdown",
   "id": "sufficient-abuse",
   "metadata": {},
   "source": [
    "3(4) Convert the indicator values into a suitability or vulnerability index or score. This can be done in two ways:\n",
    "#like in homework 7?\n",
    "Reclassify the indicator values based on classes of your choice into a five-point (or ten-point) score.\n",
    "\n",
    "Normalize the indicator values into a suitability or vulnerability index ranging from zero to one."
   ]
  },
  {
   "cell_type": "markdown",
   "id": "official-forge",
   "metadata": {},
   "source": [
    "3(5) If you opted for a five-point (or ten-point) score based on a manual reclassification of the indicator values, visualize the single indicator based score on a choropleth map. (Note that when opting for a normalized index instead, a new visualization is not warranted as the relative differences between ZCTAs do not change.)\n",
    "\n"
   ]
  },
  {
   "cell_type": "markdown",
   "id": "processed-ghana",
   "metadata": {},
   "source": [
    "#homework 7?\n",
    "4. Summarize the single indicator based scores or indices into an overall weighted or unweighted score or index. You should justify any chosen weights or the decision to forego weighting the indicators (assigning each indicator an equal weight). You are welcome to produce both a weighted and an unweighted overall index or score."
   ]
  },
  {
   "cell_type": "markdown",
   "id": "coral-jewelry",
   "metadata": {},
   "source": [
    "#homework 7?\n",
    "5. Visualize the overall suitability or vulnerability index or score on a choropleth map and produce a ZCTA ranking based on the score or index, reporting the highest and lowest ranking ZCTAs."
   ]
  }
 ],
 "metadata": {
  "kernelspec": {
   "display_name": "Python [conda env:uep239]",
   "language": "python",
   "name": "conda-env-uep239-py"
  },
  "language_info": {
   "codemirror_mode": {
    "name": "ipython",
    "version": 3
   },
   "file_extension": ".py",
   "mimetype": "text/x-python",
   "name": "python",
   "nbconvert_exporter": "python",
   "pygments_lexer": "ipython3",
   "version": "3.8.8"
  }
 },
 "nbformat": 4,
 "nbformat_minor": 5
}
